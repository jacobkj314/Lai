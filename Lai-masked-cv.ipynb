{
 "cells": [
  {
   "cell_type": "code",
   "execution_count": 1,
   "metadata": {},
   "outputs": [
    {
     "name": "stdout",
     "output_type": "stream",
     "text": [
      "c:\\C\\!2023Spring\\UCUR\\SCIL\\codebase\\local_sigmapie\\code\n",
      "\n",
      "You successfully loaded SigmaPie. \n",
      "\n",
      "Formal language classes and grammars available:\n",
      "\t* strictly piecewise: SP(alphabet, grammar, k, data, polar);\n",
      "\t* strictly local: SL(alphabet, grammar, k, data, edges, polar);\n",
      "\t* tier-based strictly local: TSL(alphabet, grammar, k, data, edges, polar, tier);\n",
      "\t* multiple tier-based strictly local: MTSL(alphabet, grammar, k, data, edges, polar).\n",
      "\n",
      "\t* multiple input-sensitive tier-based strictly local: MITSL(alphabet, grammar, k, data, edges, polar).\n",
      "\n",
      "Alternatively, you can initialize a transducer: FST(states, sigma, gamma, initial, transitions, stout).\n",
      "Learning algorithm:\n",
      "\tOSTIA: ostia(sample, sigma, gamma).\n",
      "c:\\C\\!2023Spring\\UCUR\\SCIL\\codebase\n"
     ]
    }
   ],
   "source": [
    "%cd local_sigmapie/code/\n",
    "from main import *\n",
    "%cd ../.."
   ]
  },
  {
   "attachments": {},
   "cell_type": "markdown",
   "metadata": {},
   "source": [
    "# Setup"
   ]
  },
  {
   "cell_type": "code",
   "execution_count": 2,
   "metadata": {},
   "outputs": [],
   "source": [
    "# Setting up the training sets\n",
    "\n",
    "sh = [\n",
    "'SaSekuS', 'sasokos', 'SakuSuS', 'sakesas',\n",
    "'SeSukuS', 'sesukos', 'SekeSuS', 'sekoses',\n",
    "'SiSokeS', 'sisekos', 'SikiSoS', 'sikisis',\n",
    "'SoSokeS', 'sosakos', 'SokaSeS', 'sokusas',\n",
    "'SuSakiS', 'susukos', 'SukoSoS', 'sukasus',\n",
    "'SaSokuS', 'sasakus', 'SakuSiS', 'sakisos',\n",
    "'SeSokiS', 'sesukis', 'SekeSoS', 'sekeses',\n",
    "'SiSukoS', 'sisokos', 'SikeSaS', 'sikasos',\n",
    "'SoSokuS', 'sosikas', 'SokeSiS', 'sokosis',\n",
    "'SuSakeS', 'susokis', 'SukoSeS', 'sukesas',\n",
    "]\n",
    "\n",
    "fl = [\n",
    "'SasokuS', 'saSakus', 'SaSekuS', 'sasokos',\n",
    "'SesokiS', 'seSukis', 'SeSukuS', 'sesukos',\n",
    "'SisukoS', 'siSokos', 'SiSokeS', 'sisekos',\n",
    "'SosokuS', 'soSikas', 'SoSokeS', 'sosakos',\n",
    "'SusakeS', 'suSokis', 'SuSakiS', 'susukos',\n",
    "'SakusiS', 'sakiSos', 'SakuSuS', 'sakesas',\n",
    "'SekesoS', 'sekeSes', 'SekeSuS', 'sekoses',\n",
    "'SikesaS', 'sikaSos', 'SikiSoS', 'sikisis',\n",
    "'SokesiS', 'sokoSis', 'SokaSeS', 'sokusas',\n",
    "'SukoseS', 'sukeSas', 'SukoSoS', 'sukasus'\n",
    "]\n",
    "\n",
    "ifl = [\n",
    "'SasokuS', 'saSakus', 'SakusiS', 'sakiSos',\n",
    "'SesokiS', 'seSukis', 'SekesoS', 'sekeSes',\n",
    "'SisukoS', 'siSokos', 'SikesaS', 'sikaSos',\n",
    "'SosokuS', 'soSikas', 'SokesiS', 'sokoSis',\n",
    "'SusakeS', 'suSokis', 'SukoseS', 'sukeSas',\n",
    "'SasekuS', 'saSokos', 'SakusuS', 'sakeSas',\n",
    "'SesukuS', 'seSukos', 'SekesuS', 'sekoSes',\n",
    "'SisokeS', 'siSekos', 'SikisoS', 'sikiSis',\n",
    "'SosokeS', 'soSakos', 'SokaseS', 'sokuSas',\n",
    "'SusakiS', 'suSukos', 'SukosoS', 'sukaSus'\n",
    "]"
   ]
  },
  {
   "cell_type": "code",
   "execution_count": 3,
   "metadata": {},
   "outputs": [],
   "source": [
    "#mask vowels as v, leave non-sibilant consonants as k\n",
    "import re\n",
    "sh = [re.sub(r'[aeiou]', 'v', w) for w in sh]\n",
    "fl = [re.sub(r'[aeiou]', 'v', w) for w in fl]\n",
    "ifl = [re.sub(r'[aeiou]', 'v', w) for w in ifl]\n"
   ]
  },
  {
   "cell_type": "code",
   "execution_count": 4,
   "metadata": {},
   "outputs": [],
   "source": [
    "#learning the grammars\n",
    "g_sh = MITSL(polar='n')\n",
    "g_sh.data = sh\n",
    "g_sh.extract_alphabet()\n",
    "g_sh.learn()\n",
    "\n",
    "g_fl = MITSL(polar='n')\n",
    "g_fl.data = fl\n",
    "g_fl.extract_alphabet()\n",
    "g_fl.learn()\n",
    "\n",
    "g_ifl = MITSL(polar='n')\n",
    "g_ifl.data = ifl\n",
    "g_ifl.extract_alphabet()\n",
    "g_ifl.learn()"
   ]
  },
  {
   "cell_type": "code",
   "execution_count": 5,
   "metadata": {},
   "outputs": [],
   "source": [
    "#setting up acceptors\n",
    "sh_acceptor = lambda w : len(set(filter(lambda c : c in {'s','S'}, w))) <= 1\n",
    "fl_acceptor = lambda w : w == '' or w[0] == w[-1]"
   ]
  },
  {
   "attachments": {},
   "cell_type": "markdown",
   "metadata": {},
   "source": [
    "# Evaluation Pipeline 1"
   ]
  },
  {
   "cell_type": "code",
   "execution_count": 6,
   "metadata": {},
   "outputs": [],
   "source": [
    "#setting up test set\n",
    "test = [\n",
    "'sekoSos', 'SekoSos', 'sukisas', 'sukisaS', 'SoSukoS', 'SosukoS',\n",
    "'SasokaS', 'Sasokas', 'SeSekaS', 'seSekaS', 'sukesus', 'sukeSus',\n",
    "'suSekos', 'suSekoS', 'SokuSiS', 'SokuSis', 'sisakus', 'siSakus',\n",
    "'SikisaS', 'sikisaS', 'sisokus', 'Sisokus', 'SakaSoS', 'SakasoS',\n",
    "'seSokos', 'seSokoS', 'SekeSaS', 'SekeSas', 'SokuSoS', 'SokusoS',\n",
    "'SakosaS', 'sakosaS', 'SoSukiS', 'soSukiS', 'susekus', 'suSekus',\n",
    "'sukeSos', 'SukeSos', 'sikosus', 'sikosuS', 'sikasus', 'sikaSus',\n",
    "'SisikaS', 'Sisikas', 'susikas', 'Susikas', 'SaSakoS', 'SasakoS',\n",
    "'SikuSis', 'sikuSis', 'sokasiS', 'sokasis', 'soSakas', 'sosakas',\n",
    "'Sesakis', 'SesakiS', 'SikoSis', 'SikoSiS', 'SusekiS', 'SuSekiS',\n",
    "'sokisoS', 'SokisoS', 'Sesikos', 'sesikos', 'sakuSes', 'sakuses',\n",
    "'saSekeS', 'saSekes', 'saSikuS', 'SaSikuS', 'SekosaS', 'SekoSaS',\n",
    "'Sosikos', 'SosikoS', 'Sosakis', 'sosakis', 'saSukes', 'sasukes',\n",
    "'siSukiS', 'siSukis', 'siSokiS', 'SiSokiS', 'SesokaS', 'SeSokaS',\n",
    "'sekasiS', 'SekasiS', 'sekisoS', 'sekisos', 'sokaSas', 'sokasas',\n",
    "'SakeSes', 'sakeSes', 'SakiSus', 'SakiSuS', 'SukesiS', 'SukeSiS'\n",
    "]"
   ]
  },
  {
   "cell_type": "code",
   "execution_count": 7,
   "metadata": {},
   "outputs": [],
   "source": [
    "#mask non-sibilants as x\n",
    "test = [re.sub(r'[aeiou]', 'v', w) for w in test]"
   ]
  },
  {
   "cell_type": "code",
   "execution_count": 8,
   "metadata": {},
   "outputs": [
    {
     "name": "stdout",
     "output_type": "stream",
     "text": [
      "Collecting git+https://github.com/christopherdef/ColorTTY\n",
      "  Cloning https://github.com/christopherdef/ColorTTY to c:\\users\\jacob\\appdata\\local\\temp\\pip-req-build-56i30hy6\n",
      "  Resolved https://github.com/christopherdef/ColorTTY to commit fc7c70bc39bfad4c40e3fa41feb86af084ddb720\n",
      "  Preparing metadata (setup.py): started\n",
      "  Preparing metadata (setup.py): finished with status 'done'\n"
     ]
    },
    {
     "name": "stderr",
     "output_type": "stream",
     "text": [
      "  Running command git clone --filter=blob:none --quiet https://github.com/christopherdef/ColorTTY 'C:\\Users\\Jacob\\AppData\\Local\\Temp\\pip-req-build-56i30hy6'\n",
      "\n",
      "[notice] A new release of pip available: 22.2.2 -> 23.1.2\n",
      "[notice] To update, run: C:\\Users\\Jacob\\AppData\\Local\\Microsoft\\WindowsApps\\PythonSoftwareFoundation.Python.3.10_qbz5n2kfra8p0\\python.exe -m pip install --upgrade pip\n"
     ]
    }
   ],
   "source": [
    "!pip install git+https://github.com/christopherdef/ColorTTY\n",
    "from color import Colorizer\n",
    "cz = Colorizer()"
   ]
  },
  {
   "cell_type": "code",
   "execution_count": 9,
   "metadata": {},
   "outputs": [
    {
     "name": "stdout",
     "output_type": "stream",
     "text": [
      "Evaluating g_sh\n",
      "What should this accept? (highlighted yellow)                       svkvSvs SvkvSvs \u001b[38;5;11msvkvsvs\u001b[0m svkvsvS \u001b[38;5;11mSvSvkvS\u001b[0m SvsvkvS SvsvkvS Svsvkvs \u001b[38;5;11mSvSvkvS\u001b[0m svSvkvS \u001b[38;5;11msvkvsvs\u001b[0m svkvSvs svSvkvs svSvkvS \u001b[38;5;11mSvkvSvS\u001b[0m SvkvSvs \u001b[38;5;11msvsvkvs\u001b[0m svSvkvs SvkvsvS svkvsvS \u001b[38;5;11msvsvkvs\u001b[0m Svsvkvs \u001b[38;5;11mSvkvSvS\u001b[0m SvkvsvS svSvkvs svSvkvS \u001b[38;5;11mSvkvSvS\u001b[0m SvkvSvs \u001b[38;5;11mSvkvSvS\u001b[0m SvkvsvS SvkvsvS svkvsvS \u001b[38;5;11mSvSvkvS\u001b[0m svSvkvS \u001b[38;5;11msvsvkvs\u001b[0m svSvkvs svkvSvs SvkvSvs \u001b[38;5;11msvkvsvs\u001b[0m svkvsvS \u001b[38;5;11msvkvsvs\u001b[0m svkvSvs SvsvkvS Svsvkvs \u001b[38;5;11msvsvkvs\u001b[0m Svsvkvs \u001b[38;5;11mSvSvkvS\u001b[0m SvsvkvS SvkvSvs svkvSvs svkvsvS \u001b[38;5;11msvkvsvs\u001b[0m svSvkvs \u001b[38;5;11msvsvkvs\u001b[0m Svsvkvs SvsvkvS SvkvSvs \u001b[38;5;11mSvkvSvS\u001b[0m SvsvkvS \u001b[38;5;11mSvSvkvS\u001b[0m svkvsvS SvkvsvS Svsvkvs \u001b[38;5;11msvsvkvs\u001b[0m svkvSvs \u001b[38;5;11msvkvsvs\u001b[0m svSvkvS svSvkvs svSvkvS \u001b[38;5;11mSvSvkvS\u001b[0m SvkvsvS \u001b[38;5;11mSvkvSvS\u001b[0m Svsvkvs SvsvkvS Svsvkvs \u001b[38;5;11msvsvkvs\u001b[0m svSvkvs \u001b[38;5;11msvsvkvs\u001b[0m svSvkvS svSvkvs svSvkvS \u001b[38;5;11mSvSvkvS\u001b[0m SvsvkvS \u001b[38;5;11mSvSvkvS\u001b[0m svkvsvS SvkvsvS svkvsvS \u001b[38;5;11msvkvsvs\u001b[0m svkvSvs \u001b[38;5;11msvkvsvs\u001b[0m SvkvSvs svkvSvs SvkvSvs \u001b[38;5;11mSvkvSvS\u001b[0m SvkvsvS \u001b[38;5;11mSvkvSvS\u001b[0m\n",
      "What does this accept?   (highlighted magenta)                      svkvSvs SvkvSvs \u001b[38;5;13msvkvsvs\u001b[0m svkvsvS \u001b[38;5;13mSvSvkvS\u001b[0m SvsvkvS SvsvkvS Svsvkvs \u001b[38;5;13mSvSvkvS\u001b[0m svSvkvS \u001b[38;5;13msvkvsvs\u001b[0m svkvSvs svSvkvs svSvkvS \u001b[38;5;13mSvkvSvS\u001b[0m SvkvSvs \u001b[38;5;13msvsvkvs\u001b[0m svSvkvs SvkvsvS svkvsvS \u001b[38;5;13msvsvkvs\u001b[0m Svsvkvs \u001b[38;5;13mSvkvSvS\u001b[0m SvkvsvS svSvkvs svSvkvS \u001b[38;5;13mSvkvSvS\u001b[0m SvkvSvs \u001b[38;5;13mSvkvSvS\u001b[0m SvkvsvS SvkvsvS svkvsvS \u001b[38;5;13mSvSvkvS\u001b[0m svSvkvS \u001b[38;5;13msvsvkvs\u001b[0m svSvkvs svkvSvs SvkvSvs \u001b[38;5;13msvkvsvs\u001b[0m svkvsvS \u001b[38;5;13msvkvsvs\u001b[0m svkvSvs SvsvkvS Svsvkvs \u001b[38;5;13msvsvkvs\u001b[0m Svsvkvs \u001b[38;5;13mSvSvkvS\u001b[0m SvsvkvS SvkvSvs svkvSvs svkvsvS \u001b[38;5;13msvkvsvs\u001b[0m svSvkvs \u001b[38;5;13msvsvkvs\u001b[0m Svsvkvs SvsvkvS SvkvSvs \u001b[38;5;13mSvkvSvS\u001b[0m SvsvkvS \u001b[38;5;13mSvSvkvS\u001b[0m svkvsvS SvkvsvS Svsvkvs \u001b[38;5;13msvsvkvs\u001b[0m svkvSvs \u001b[38;5;13msvkvsvs\u001b[0m svSvkvS svSvkvs svSvkvS \u001b[38;5;13mSvSvkvS\u001b[0m SvkvsvS \u001b[38;5;13mSvkvSvS\u001b[0m Svsvkvs SvsvkvS Svsvkvs \u001b[38;5;13msvsvkvs\u001b[0m svSvkvs \u001b[38;5;13msvsvkvs\u001b[0m svSvkvS svSvkvs svSvkvS \u001b[38;5;13mSvSvkvS\u001b[0m SvsvkvS \u001b[38;5;13mSvSvkvS\u001b[0m svkvsvS SvkvsvS svkvsvS \u001b[38;5;13msvkvsvs\u001b[0m svkvSvs \u001b[38;5;13msvkvsvs\u001b[0m SvkvSvs svkvSvs SvkvSvs \u001b[38;5;13mSvkvSvS\u001b[0m SvkvsvS \u001b[38;5;13mSvkvSvS\u001b[0m\n",
      "Does the grammar make the same judgement as the sh acceptor? 100.00% \u001b[38;5;10msvkvSvs\u001b[0m \u001b[38;5;10mSvkvSvs\u001b[0m \u001b[38;5;10msvkvsvs\u001b[0m \u001b[38;5;10msvkvsvS\u001b[0m \u001b[38;5;10mSvSvkvS\u001b[0m \u001b[38;5;10mSvsvkvS\u001b[0m \u001b[38;5;10mSvsvkvS\u001b[0m \u001b[38;5;10mSvsvkvs\u001b[0m \u001b[38;5;10mSvSvkvS\u001b[0m \u001b[38;5;10msvSvkvS\u001b[0m \u001b[38;5;10msvkvsvs\u001b[0m \u001b[38;5;10msvkvSvs\u001b[0m \u001b[38;5;10msvSvkvs\u001b[0m \u001b[38;5;10msvSvkvS\u001b[0m \u001b[38;5;10mSvkvSvS\u001b[0m \u001b[38;5;10mSvkvSvs\u001b[0m \u001b[38;5;10msvsvkvs\u001b[0m \u001b[38;5;10msvSvkvs\u001b[0m \u001b[38;5;10mSvkvsvS\u001b[0m \u001b[38;5;10msvkvsvS\u001b[0m \u001b[38;5;10msvsvkvs\u001b[0m \u001b[38;5;10mSvsvkvs\u001b[0m \u001b[38;5;10mSvkvSvS\u001b[0m \u001b[38;5;10mSvkvsvS\u001b[0m \u001b[38;5;10msvSvkvs\u001b[0m \u001b[38;5;10msvSvkvS\u001b[0m \u001b[38;5;10mSvkvSvS\u001b[0m \u001b[38;5;10mSvkvSvs\u001b[0m \u001b[38;5;10mSvkvSvS\u001b[0m \u001b[38;5;10mSvkvsvS\u001b[0m \u001b[38;5;10mSvkvsvS\u001b[0m \u001b[38;5;10msvkvsvS\u001b[0m \u001b[38;5;10mSvSvkvS\u001b[0m \u001b[38;5;10msvSvkvS\u001b[0m \u001b[38;5;10msvsvkvs\u001b[0m \u001b[38;5;10msvSvkvs\u001b[0m \u001b[38;5;10msvkvSvs\u001b[0m \u001b[38;5;10mSvkvSvs\u001b[0m \u001b[38;5;10msvkvsvs\u001b[0m \u001b[38;5;10msvkvsvS\u001b[0m \u001b[38;5;10msvkvsvs\u001b[0m \u001b[38;5;10msvkvSvs\u001b[0m \u001b[38;5;10mSvsvkvS\u001b[0m \u001b[38;5;10mSvsvkvs\u001b[0m \u001b[38;5;10msvsvkvs\u001b[0m \u001b[38;5;10mSvsvkvs\u001b[0m \u001b[38;5;10mSvSvkvS\u001b[0m \u001b[38;5;10mSvsvkvS\u001b[0m \u001b[38;5;10mSvkvSvs\u001b[0m \u001b[38;5;10msvkvSvs\u001b[0m \u001b[38;5;10msvkvsvS\u001b[0m \u001b[38;5;10msvkvsvs\u001b[0m \u001b[38;5;10msvSvkvs\u001b[0m \u001b[38;5;10msvsvkvs\u001b[0m \u001b[38;5;10mSvsvkvs\u001b[0m \u001b[38;5;10mSvsvkvS\u001b[0m \u001b[38;5;10mSvkvSvs\u001b[0m \u001b[38;5;10mSvkvSvS\u001b[0m \u001b[38;5;10mSvsvkvS\u001b[0m \u001b[38;5;10mSvSvkvS\u001b[0m \u001b[38;5;10msvkvsvS\u001b[0m \u001b[38;5;10mSvkvsvS\u001b[0m \u001b[38;5;10mSvsvkvs\u001b[0m \u001b[38;5;10msvsvkvs\u001b[0m \u001b[38;5;10msvkvSvs\u001b[0m \u001b[38;5;10msvkvsvs\u001b[0m \u001b[38;5;10msvSvkvS\u001b[0m \u001b[38;5;10msvSvkvs\u001b[0m \u001b[38;5;10msvSvkvS\u001b[0m \u001b[38;5;10mSvSvkvS\u001b[0m \u001b[38;5;10mSvkvsvS\u001b[0m \u001b[38;5;10mSvkvSvS\u001b[0m \u001b[38;5;10mSvsvkvs\u001b[0m \u001b[38;5;10mSvsvkvS\u001b[0m \u001b[38;5;10mSvsvkvs\u001b[0m \u001b[38;5;10msvsvkvs\u001b[0m \u001b[38;5;10msvSvkvs\u001b[0m \u001b[38;5;10msvsvkvs\u001b[0m \u001b[38;5;10msvSvkvS\u001b[0m \u001b[38;5;10msvSvkvs\u001b[0m \u001b[38;5;10msvSvkvS\u001b[0m \u001b[38;5;10mSvSvkvS\u001b[0m \u001b[38;5;10mSvsvkvS\u001b[0m \u001b[38;5;10mSvSvkvS\u001b[0m \u001b[38;5;10msvkvsvS\u001b[0m \u001b[38;5;10mSvkvsvS\u001b[0m \u001b[38;5;10msvkvsvS\u001b[0m \u001b[38;5;10msvkvsvs\u001b[0m \u001b[38;5;10msvkvSvs\u001b[0m \u001b[38;5;10msvkvsvs\u001b[0m \u001b[38;5;10mSvkvSvs\u001b[0m \u001b[38;5;10msvkvSvs\u001b[0m \u001b[38;5;10mSvkvSvs\u001b[0m \u001b[38;5;10mSvkvSvS\u001b[0m \u001b[38;5;10mSvkvsvS\u001b[0m \u001b[38;5;10mSvkvSvS\u001b[0m\n",
      "Does the grammar make the same judgement as the fl acceptor? 66.67% \u001b[38;5;9msvkvSvs\u001b[0m \u001b[38;5;10mSvkvSvs\u001b[0m \u001b[38;5;10msvkvsvs\u001b[0m \u001b[38;5;10msvkvsvS\u001b[0m \u001b[38;5;10mSvSvkvS\u001b[0m \u001b[38;5;9mSvsvkvS\u001b[0m \u001b[38;5;9mSvsvkvS\u001b[0m \u001b[38;5;10mSvsvkvs\u001b[0m \u001b[38;5;10mSvSvkvS\u001b[0m \u001b[38;5;10msvSvkvS\u001b[0m \u001b[38;5;10msvkvsvs\u001b[0m \u001b[38;5;9msvkvSvs\u001b[0m \u001b[38;5;9msvSvkvs\u001b[0m \u001b[38;5;10msvSvkvS\u001b[0m \u001b[38;5;10mSvkvSvS\u001b[0m \u001b[38;5;10mSvkvSvs\u001b[0m \u001b[38;5;10msvsvkvs\u001b[0m \u001b[38;5;9msvSvkvs\u001b[0m \u001b[38;5;9mSvkvsvS\u001b[0m \u001b[38;5;10msvkvsvS\u001b[0m \u001b[38;5;10msvsvkvs\u001b[0m \u001b[38;5;10mSvsvkvs\u001b[0m \u001b[38;5;10mSvkvSvS\u001b[0m \u001b[38;5;9mSvkvsvS\u001b[0m \u001b[38;5;9msvSvkvs\u001b[0m \u001b[38;5;10msvSvkvS\u001b[0m \u001b[38;5;10mSvkvSvS\u001b[0m \u001b[38;5;10mSvkvSvs\u001b[0m \u001b[38;5;10mSvkvSvS\u001b[0m \u001b[38;5;9mSvkvsvS\u001b[0m \u001b[38;5;9mSvkvsvS\u001b[0m \u001b[38;5;10msvkvsvS\u001b[0m \u001b[38;5;10mSvSvkvS\u001b[0m \u001b[38;5;10msvSvkvS\u001b[0m \u001b[38;5;10msvsvkvs\u001b[0m \u001b[38;5;9msvSvkvs\u001b[0m \u001b[38;5;9msvkvSvs\u001b[0m \u001b[38;5;10mSvkvSvs\u001b[0m \u001b[38;5;10msvkvsvs\u001b[0m \u001b[38;5;10msvkvsvS\u001b[0m \u001b[38;5;10msvkvsvs\u001b[0m \u001b[38;5;9msvkvSvs\u001b[0m \u001b[38;5;9mSvsvkvS\u001b[0m \u001b[38;5;10mSvsvkvs\u001b[0m \u001b[38;5;10msvsvkvs\u001b[0m \u001b[38;5;10mSvsvkvs\u001b[0m \u001b[38;5;10mSvSvkvS\u001b[0m \u001b[38;5;9mSvsvkvS\u001b[0m \u001b[38;5;10mSvkvSvs\u001b[0m \u001b[38;5;9msvkvSvs\u001b[0m \u001b[38;5;10msvkvsvS\u001b[0m \u001b[38;5;10msvkvsvs\u001b[0m \u001b[38;5;9msvSvkvs\u001b[0m \u001b[38;5;10msvsvkvs\u001b[0m \u001b[38;5;10mSvsvkvs\u001b[0m \u001b[38;5;9mSvsvkvS\u001b[0m \u001b[38;5;10mSvkvSvs\u001b[0m \u001b[38;5;10mSvkvSvS\u001b[0m \u001b[38;5;9mSvsvkvS\u001b[0m \u001b[38;5;10mSvSvkvS\u001b[0m \u001b[38;5;10msvkvsvS\u001b[0m \u001b[38;5;9mSvkvsvS\u001b[0m \u001b[38;5;10mSvsvkvs\u001b[0m \u001b[38;5;10msvsvkvs\u001b[0m \u001b[38;5;9msvkvSvs\u001b[0m \u001b[38;5;10msvkvsvs\u001b[0m \u001b[38;5;10msvSvkvS\u001b[0m \u001b[38;5;9msvSvkvs\u001b[0m \u001b[38;5;10msvSvkvS\u001b[0m \u001b[38;5;10mSvSvkvS\u001b[0m \u001b[38;5;9mSvkvsvS\u001b[0m \u001b[38;5;10mSvkvSvS\u001b[0m \u001b[38;5;10mSvsvkvs\u001b[0m \u001b[38;5;9mSvsvkvS\u001b[0m \u001b[38;5;10mSvsvkvs\u001b[0m \u001b[38;5;10msvsvkvs\u001b[0m \u001b[38;5;9msvSvkvs\u001b[0m \u001b[38;5;10msvsvkvs\u001b[0m \u001b[38;5;10msvSvkvS\u001b[0m \u001b[38;5;9msvSvkvs\u001b[0m \u001b[38;5;10msvSvkvS\u001b[0m \u001b[38;5;10mSvSvkvS\u001b[0m \u001b[38;5;9mSvsvkvS\u001b[0m \u001b[38;5;10mSvSvkvS\u001b[0m \u001b[38;5;10msvkvsvS\u001b[0m \u001b[38;5;9mSvkvsvS\u001b[0m \u001b[38;5;10msvkvsvS\u001b[0m \u001b[38;5;10msvkvsvs\u001b[0m \u001b[38;5;9msvkvSvs\u001b[0m \u001b[38;5;10msvkvsvs\u001b[0m \u001b[38;5;10mSvkvSvs\u001b[0m \u001b[38;5;9msvkvSvs\u001b[0m \u001b[38;5;10mSvkvSvs\u001b[0m \u001b[38;5;10mSvkvSvS\u001b[0m \u001b[38;5;9mSvkvsvS\u001b[0m \u001b[38;5;10mSvkvSvS\u001b[0m\n",
      "\n",
      "Evaluating g_fl\n",
      "What should this accept? (highlighted yellow)                       \u001b[38;5;11msvkvSvs\u001b[0m SvkvSvs \u001b[38;5;11msvkvsvs\u001b[0m svkvsvS \u001b[38;5;11mSvSvkvS\u001b[0m \u001b[38;5;11mSvsvkvS\u001b[0m \u001b[38;5;11mSvsvkvS\u001b[0m Svsvkvs \u001b[38;5;11mSvSvkvS\u001b[0m svSvkvS \u001b[38;5;11msvkvsvs\u001b[0m \u001b[38;5;11msvkvSvs\u001b[0m \u001b[38;5;11msvSvkvs\u001b[0m svSvkvS \u001b[38;5;11mSvkvSvS\u001b[0m SvkvSvs \u001b[38;5;11msvsvkvs\u001b[0m \u001b[38;5;11msvSvkvs\u001b[0m \u001b[38;5;11mSvkvsvS\u001b[0m svkvsvS \u001b[38;5;11msvsvkvs\u001b[0m Svsvkvs \u001b[38;5;11mSvkvSvS\u001b[0m \u001b[38;5;11mSvkvsvS\u001b[0m \u001b[38;5;11msvSvkvs\u001b[0m svSvkvS \u001b[38;5;11mSvkvSvS\u001b[0m SvkvSvs \u001b[38;5;11mSvkvSvS\u001b[0m \u001b[38;5;11mSvkvsvS\u001b[0m \u001b[38;5;11mSvkvsvS\u001b[0m svkvsvS \u001b[38;5;11mSvSvkvS\u001b[0m svSvkvS \u001b[38;5;11msvsvkvs\u001b[0m \u001b[38;5;11msvSvkvs\u001b[0m \u001b[38;5;11msvkvSvs\u001b[0m SvkvSvs \u001b[38;5;11msvkvsvs\u001b[0m svkvsvS \u001b[38;5;11msvkvsvs\u001b[0m \u001b[38;5;11msvkvSvs\u001b[0m \u001b[38;5;11mSvsvkvS\u001b[0m Svsvkvs \u001b[38;5;11msvsvkvs\u001b[0m Svsvkvs \u001b[38;5;11mSvSvkvS\u001b[0m \u001b[38;5;11mSvsvkvS\u001b[0m SvkvSvs \u001b[38;5;11msvkvSvs\u001b[0m svkvsvS \u001b[38;5;11msvkvsvs\u001b[0m \u001b[38;5;11msvSvkvs\u001b[0m \u001b[38;5;11msvsvkvs\u001b[0m Svsvkvs \u001b[38;5;11mSvsvkvS\u001b[0m SvkvSvs \u001b[38;5;11mSvkvSvS\u001b[0m \u001b[38;5;11mSvsvkvS\u001b[0m \u001b[38;5;11mSvSvkvS\u001b[0m svkvsvS \u001b[38;5;11mSvkvsvS\u001b[0m Svsvkvs \u001b[38;5;11msvsvkvs\u001b[0m \u001b[38;5;11msvkvSvs\u001b[0m \u001b[38;5;11msvkvsvs\u001b[0m svSvkvS \u001b[38;5;11msvSvkvs\u001b[0m svSvkvS \u001b[38;5;11mSvSvkvS\u001b[0m \u001b[38;5;11mSvkvsvS\u001b[0m \u001b[38;5;11mSvkvSvS\u001b[0m Svsvkvs \u001b[38;5;11mSvsvkvS\u001b[0m Svsvkvs \u001b[38;5;11msvsvkvs\u001b[0m \u001b[38;5;11msvSvkvs\u001b[0m \u001b[38;5;11msvsvkvs\u001b[0m svSvkvS \u001b[38;5;11msvSvkvs\u001b[0m svSvkvS \u001b[38;5;11mSvSvkvS\u001b[0m \u001b[38;5;11mSvsvkvS\u001b[0m \u001b[38;5;11mSvSvkvS\u001b[0m svkvsvS \u001b[38;5;11mSvkvsvS\u001b[0m svkvsvS \u001b[38;5;11msvkvsvs\u001b[0m \u001b[38;5;11msvkvSvs\u001b[0m \u001b[38;5;11msvkvsvs\u001b[0m SvkvSvs \u001b[38;5;11msvkvSvs\u001b[0m SvkvSvs \u001b[38;5;11mSvkvSvS\u001b[0m \u001b[38;5;11mSvkvsvS\u001b[0m \u001b[38;5;11mSvkvSvS\u001b[0m\n",
      "What does this accept?   (highlighted magenta)                      \u001b[38;5;13msvkvSvs\u001b[0m SvkvSvs \u001b[38;5;13msvkvsvs\u001b[0m svkvsvS \u001b[38;5;13mSvSvkvS\u001b[0m \u001b[38;5;13mSvsvkvS\u001b[0m \u001b[38;5;13mSvsvkvS\u001b[0m Svsvkvs \u001b[38;5;13mSvSvkvS\u001b[0m svSvkvS \u001b[38;5;13msvkvsvs\u001b[0m \u001b[38;5;13msvkvSvs\u001b[0m \u001b[38;5;13msvSvkvs\u001b[0m svSvkvS \u001b[38;5;13mSvkvSvS\u001b[0m SvkvSvs \u001b[38;5;13msvsvkvs\u001b[0m \u001b[38;5;13msvSvkvs\u001b[0m \u001b[38;5;13mSvkvsvS\u001b[0m svkvsvS \u001b[38;5;13msvsvkvs\u001b[0m Svsvkvs \u001b[38;5;13mSvkvSvS\u001b[0m \u001b[38;5;13mSvkvsvS\u001b[0m \u001b[38;5;13msvSvkvs\u001b[0m svSvkvS \u001b[38;5;13mSvkvSvS\u001b[0m SvkvSvs \u001b[38;5;13mSvkvSvS\u001b[0m \u001b[38;5;13mSvkvsvS\u001b[0m \u001b[38;5;13mSvkvsvS\u001b[0m svkvsvS \u001b[38;5;13mSvSvkvS\u001b[0m svSvkvS \u001b[38;5;13msvsvkvs\u001b[0m \u001b[38;5;13msvSvkvs\u001b[0m \u001b[38;5;13msvkvSvs\u001b[0m SvkvSvs \u001b[38;5;13msvkvsvs\u001b[0m svkvsvS \u001b[38;5;13msvkvsvs\u001b[0m \u001b[38;5;13msvkvSvs\u001b[0m \u001b[38;5;13mSvsvkvS\u001b[0m Svsvkvs \u001b[38;5;13msvsvkvs\u001b[0m Svsvkvs \u001b[38;5;13mSvSvkvS\u001b[0m \u001b[38;5;13mSvsvkvS\u001b[0m SvkvSvs \u001b[38;5;13msvkvSvs\u001b[0m svkvsvS \u001b[38;5;13msvkvsvs\u001b[0m \u001b[38;5;13msvSvkvs\u001b[0m \u001b[38;5;13msvsvkvs\u001b[0m Svsvkvs \u001b[38;5;13mSvsvkvS\u001b[0m SvkvSvs \u001b[38;5;13mSvkvSvS\u001b[0m \u001b[38;5;13mSvsvkvS\u001b[0m \u001b[38;5;13mSvSvkvS\u001b[0m svkvsvS \u001b[38;5;13mSvkvsvS\u001b[0m Svsvkvs \u001b[38;5;13msvsvkvs\u001b[0m \u001b[38;5;13msvkvSvs\u001b[0m \u001b[38;5;13msvkvsvs\u001b[0m svSvkvS \u001b[38;5;13msvSvkvs\u001b[0m svSvkvS \u001b[38;5;13mSvSvkvS\u001b[0m \u001b[38;5;13mSvkvsvS\u001b[0m \u001b[38;5;13mSvkvSvS\u001b[0m Svsvkvs \u001b[38;5;13mSvsvkvS\u001b[0m Svsvkvs \u001b[38;5;13msvsvkvs\u001b[0m \u001b[38;5;13msvSvkvs\u001b[0m \u001b[38;5;13msvsvkvs\u001b[0m svSvkvS \u001b[38;5;13msvSvkvs\u001b[0m svSvkvS \u001b[38;5;13mSvSvkvS\u001b[0m \u001b[38;5;13mSvsvkvS\u001b[0m \u001b[38;5;13mSvSvkvS\u001b[0m svkvsvS \u001b[38;5;13mSvkvsvS\u001b[0m svkvsvS \u001b[38;5;13msvkvsvs\u001b[0m \u001b[38;5;13msvkvSvs\u001b[0m \u001b[38;5;13msvkvsvs\u001b[0m SvkvSvs \u001b[38;5;13msvkvSvs\u001b[0m SvkvSvs \u001b[38;5;13mSvkvSvS\u001b[0m \u001b[38;5;13mSvkvsvS\u001b[0m \u001b[38;5;13mSvkvSvS\u001b[0m\n",
      "Does the grammar make the same judgement as the sh acceptor? 66.67% \u001b[38;5;9msvkvSvs\u001b[0m \u001b[38;5;10mSvkvSvs\u001b[0m \u001b[38;5;10msvkvsvs\u001b[0m \u001b[38;5;10msvkvsvS\u001b[0m \u001b[38;5;10mSvSvkvS\u001b[0m \u001b[38;5;9mSvsvkvS\u001b[0m \u001b[38;5;9mSvsvkvS\u001b[0m \u001b[38;5;10mSvsvkvs\u001b[0m \u001b[38;5;10mSvSvkvS\u001b[0m \u001b[38;5;10msvSvkvS\u001b[0m \u001b[38;5;10msvkvsvs\u001b[0m \u001b[38;5;9msvkvSvs\u001b[0m \u001b[38;5;9msvSvkvs\u001b[0m \u001b[38;5;10msvSvkvS\u001b[0m \u001b[38;5;10mSvkvSvS\u001b[0m \u001b[38;5;10mSvkvSvs\u001b[0m \u001b[38;5;10msvsvkvs\u001b[0m \u001b[38;5;9msvSvkvs\u001b[0m \u001b[38;5;9mSvkvsvS\u001b[0m \u001b[38;5;10msvkvsvS\u001b[0m \u001b[38;5;10msvsvkvs\u001b[0m \u001b[38;5;10mSvsvkvs\u001b[0m \u001b[38;5;10mSvkvSvS\u001b[0m \u001b[38;5;9mSvkvsvS\u001b[0m \u001b[38;5;9msvSvkvs\u001b[0m \u001b[38;5;10msvSvkvS\u001b[0m \u001b[38;5;10mSvkvSvS\u001b[0m \u001b[38;5;10mSvkvSvs\u001b[0m \u001b[38;5;10mSvkvSvS\u001b[0m \u001b[38;5;9mSvkvsvS\u001b[0m \u001b[38;5;9mSvkvsvS\u001b[0m \u001b[38;5;10msvkvsvS\u001b[0m \u001b[38;5;10mSvSvkvS\u001b[0m \u001b[38;5;10msvSvkvS\u001b[0m \u001b[38;5;10msvsvkvs\u001b[0m \u001b[38;5;9msvSvkvs\u001b[0m \u001b[38;5;9msvkvSvs\u001b[0m \u001b[38;5;10mSvkvSvs\u001b[0m \u001b[38;5;10msvkvsvs\u001b[0m \u001b[38;5;10msvkvsvS\u001b[0m \u001b[38;5;10msvkvsvs\u001b[0m \u001b[38;5;9msvkvSvs\u001b[0m \u001b[38;5;9mSvsvkvS\u001b[0m \u001b[38;5;10mSvsvkvs\u001b[0m \u001b[38;5;10msvsvkvs\u001b[0m \u001b[38;5;10mSvsvkvs\u001b[0m \u001b[38;5;10mSvSvkvS\u001b[0m \u001b[38;5;9mSvsvkvS\u001b[0m \u001b[38;5;10mSvkvSvs\u001b[0m \u001b[38;5;9msvkvSvs\u001b[0m \u001b[38;5;10msvkvsvS\u001b[0m \u001b[38;5;10msvkvsvs\u001b[0m \u001b[38;5;9msvSvkvs\u001b[0m \u001b[38;5;10msvsvkvs\u001b[0m \u001b[38;5;10mSvsvkvs\u001b[0m \u001b[38;5;9mSvsvkvS\u001b[0m \u001b[38;5;10mSvkvSvs\u001b[0m \u001b[38;5;10mSvkvSvS\u001b[0m \u001b[38;5;9mSvsvkvS\u001b[0m \u001b[38;5;10mSvSvkvS\u001b[0m \u001b[38;5;10msvkvsvS\u001b[0m \u001b[38;5;9mSvkvsvS\u001b[0m \u001b[38;5;10mSvsvkvs\u001b[0m \u001b[38;5;10msvsvkvs\u001b[0m \u001b[38;5;9msvkvSvs\u001b[0m \u001b[38;5;10msvkvsvs\u001b[0m \u001b[38;5;10msvSvkvS\u001b[0m \u001b[38;5;9msvSvkvs\u001b[0m \u001b[38;5;10msvSvkvS\u001b[0m \u001b[38;5;10mSvSvkvS\u001b[0m \u001b[38;5;9mSvkvsvS\u001b[0m \u001b[38;5;10mSvkvSvS\u001b[0m \u001b[38;5;10mSvsvkvs\u001b[0m \u001b[38;5;9mSvsvkvS\u001b[0m \u001b[38;5;10mSvsvkvs\u001b[0m \u001b[38;5;10msvsvkvs\u001b[0m \u001b[38;5;9msvSvkvs\u001b[0m \u001b[38;5;10msvsvkvs\u001b[0m \u001b[38;5;10msvSvkvS\u001b[0m \u001b[38;5;9msvSvkvs\u001b[0m \u001b[38;5;10msvSvkvS\u001b[0m \u001b[38;5;10mSvSvkvS\u001b[0m \u001b[38;5;9mSvsvkvS\u001b[0m \u001b[38;5;10mSvSvkvS\u001b[0m \u001b[38;5;10msvkvsvS\u001b[0m \u001b[38;5;9mSvkvsvS\u001b[0m \u001b[38;5;10msvkvsvS\u001b[0m \u001b[38;5;10msvkvsvs\u001b[0m \u001b[38;5;9msvkvSvs\u001b[0m \u001b[38;5;10msvkvsvs\u001b[0m \u001b[38;5;10mSvkvSvs\u001b[0m \u001b[38;5;9msvkvSvs\u001b[0m \u001b[38;5;10mSvkvSvs\u001b[0m \u001b[38;5;10mSvkvSvS\u001b[0m \u001b[38;5;9mSvkvsvS\u001b[0m \u001b[38;5;10mSvkvSvS\u001b[0m\n",
      "Does the grammar make the same judgement as the fl acceptor? 100.00% \u001b[38;5;10msvkvSvs\u001b[0m \u001b[38;5;10mSvkvSvs\u001b[0m \u001b[38;5;10msvkvsvs\u001b[0m \u001b[38;5;10msvkvsvS\u001b[0m \u001b[38;5;10mSvSvkvS\u001b[0m \u001b[38;5;10mSvsvkvS\u001b[0m \u001b[38;5;10mSvsvkvS\u001b[0m \u001b[38;5;10mSvsvkvs\u001b[0m \u001b[38;5;10mSvSvkvS\u001b[0m \u001b[38;5;10msvSvkvS\u001b[0m \u001b[38;5;10msvkvsvs\u001b[0m \u001b[38;5;10msvkvSvs\u001b[0m \u001b[38;5;10msvSvkvs\u001b[0m \u001b[38;5;10msvSvkvS\u001b[0m \u001b[38;5;10mSvkvSvS\u001b[0m \u001b[38;5;10mSvkvSvs\u001b[0m \u001b[38;5;10msvsvkvs\u001b[0m \u001b[38;5;10msvSvkvs\u001b[0m \u001b[38;5;10mSvkvsvS\u001b[0m \u001b[38;5;10msvkvsvS\u001b[0m \u001b[38;5;10msvsvkvs\u001b[0m \u001b[38;5;10mSvsvkvs\u001b[0m \u001b[38;5;10mSvkvSvS\u001b[0m \u001b[38;5;10mSvkvsvS\u001b[0m \u001b[38;5;10msvSvkvs\u001b[0m \u001b[38;5;10msvSvkvS\u001b[0m \u001b[38;5;10mSvkvSvS\u001b[0m \u001b[38;5;10mSvkvSvs\u001b[0m \u001b[38;5;10mSvkvSvS\u001b[0m \u001b[38;5;10mSvkvsvS\u001b[0m \u001b[38;5;10mSvkvsvS\u001b[0m \u001b[38;5;10msvkvsvS\u001b[0m \u001b[38;5;10mSvSvkvS\u001b[0m \u001b[38;5;10msvSvkvS\u001b[0m \u001b[38;5;10msvsvkvs\u001b[0m \u001b[38;5;10msvSvkvs\u001b[0m \u001b[38;5;10msvkvSvs\u001b[0m \u001b[38;5;10mSvkvSvs\u001b[0m \u001b[38;5;10msvkvsvs\u001b[0m \u001b[38;5;10msvkvsvS\u001b[0m \u001b[38;5;10msvkvsvs\u001b[0m \u001b[38;5;10msvkvSvs\u001b[0m \u001b[38;5;10mSvsvkvS\u001b[0m \u001b[38;5;10mSvsvkvs\u001b[0m \u001b[38;5;10msvsvkvs\u001b[0m \u001b[38;5;10mSvsvkvs\u001b[0m \u001b[38;5;10mSvSvkvS\u001b[0m \u001b[38;5;10mSvsvkvS\u001b[0m \u001b[38;5;10mSvkvSvs\u001b[0m \u001b[38;5;10msvkvSvs\u001b[0m \u001b[38;5;10msvkvsvS\u001b[0m \u001b[38;5;10msvkvsvs\u001b[0m \u001b[38;5;10msvSvkvs\u001b[0m \u001b[38;5;10msvsvkvs\u001b[0m \u001b[38;5;10mSvsvkvs\u001b[0m \u001b[38;5;10mSvsvkvS\u001b[0m \u001b[38;5;10mSvkvSvs\u001b[0m \u001b[38;5;10mSvkvSvS\u001b[0m \u001b[38;5;10mSvsvkvS\u001b[0m \u001b[38;5;10mSvSvkvS\u001b[0m \u001b[38;5;10msvkvsvS\u001b[0m \u001b[38;5;10mSvkvsvS\u001b[0m \u001b[38;5;10mSvsvkvs\u001b[0m \u001b[38;5;10msvsvkvs\u001b[0m \u001b[38;5;10msvkvSvs\u001b[0m \u001b[38;5;10msvkvsvs\u001b[0m \u001b[38;5;10msvSvkvS\u001b[0m \u001b[38;5;10msvSvkvs\u001b[0m \u001b[38;5;10msvSvkvS\u001b[0m \u001b[38;5;10mSvSvkvS\u001b[0m \u001b[38;5;10mSvkvsvS\u001b[0m \u001b[38;5;10mSvkvSvS\u001b[0m \u001b[38;5;10mSvsvkvs\u001b[0m \u001b[38;5;10mSvsvkvS\u001b[0m \u001b[38;5;10mSvsvkvs\u001b[0m \u001b[38;5;10msvsvkvs\u001b[0m \u001b[38;5;10msvSvkvs\u001b[0m \u001b[38;5;10msvsvkvs\u001b[0m \u001b[38;5;10msvSvkvS\u001b[0m \u001b[38;5;10msvSvkvs\u001b[0m \u001b[38;5;10msvSvkvS\u001b[0m \u001b[38;5;10mSvSvkvS\u001b[0m \u001b[38;5;10mSvsvkvS\u001b[0m \u001b[38;5;10mSvSvkvS\u001b[0m \u001b[38;5;10msvkvsvS\u001b[0m \u001b[38;5;10mSvkvsvS\u001b[0m \u001b[38;5;10msvkvsvS\u001b[0m \u001b[38;5;10msvkvsvs\u001b[0m \u001b[38;5;10msvkvSvs\u001b[0m \u001b[38;5;10msvkvsvs\u001b[0m \u001b[38;5;10mSvkvSvs\u001b[0m \u001b[38;5;10msvkvSvs\u001b[0m \u001b[38;5;10mSvkvSvs\u001b[0m \u001b[38;5;10mSvkvSvS\u001b[0m \u001b[38;5;10mSvkvsvS\u001b[0m \u001b[38;5;10mSvkvSvS\u001b[0m\n",
      "\n",
      "Evaluating g_ifl\n",
      "What should this accept? (highlighted yellow)                       \u001b[38;5;11msvkvSvs\u001b[0m SvkvSvs \u001b[38;5;11msvkvsvs\u001b[0m svkvsvS \u001b[38;5;11mSvSvkvS\u001b[0m \u001b[38;5;11mSvsvkvS\u001b[0m \u001b[38;5;11mSvsvkvS\u001b[0m Svsvkvs \u001b[38;5;11mSvSvkvS\u001b[0m svSvkvS \u001b[38;5;11msvkvsvs\u001b[0m \u001b[38;5;11msvkvSvs\u001b[0m \u001b[38;5;11msvSvkvs\u001b[0m svSvkvS \u001b[38;5;11mSvkvSvS\u001b[0m SvkvSvs \u001b[38;5;11msvsvkvs\u001b[0m \u001b[38;5;11msvSvkvs\u001b[0m \u001b[38;5;11mSvkvsvS\u001b[0m svkvsvS \u001b[38;5;11msvsvkvs\u001b[0m Svsvkvs \u001b[38;5;11mSvkvSvS\u001b[0m \u001b[38;5;11mSvkvsvS\u001b[0m \u001b[38;5;11msvSvkvs\u001b[0m svSvkvS \u001b[38;5;11mSvkvSvS\u001b[0m SvkvSvs \u001b[38;5;11mSvkvSvS\u001b[0m \u001b[38;5;11mSvkvsvS\u001b[0m \u001b[38;5;11mSvkvsvS\u001b[0m svkvsvS \u001b[38;5;11mSvSvkvS\u001b[0m svSvkvS \u001b[38;5;11msvsvkvs\u001b[0m \u001b[38;5;11msvSvkvs\u001b[0m \u001b[38;5;11msvkvSvs\u001b[0m SvkvSvs \u001b[38;5;11msvkvsvs\u001b[0m svkvsvS \u001b[38;5;11msvkvsvs\u001b[0m \u001b[38;5;11msvkvSvs\u001b[0m \u001b[38;5;11mSvsvkvS\u001b[0m Svsvkvs \u001b[38;5;11msvsvkvs\u001b[0m Svsvkvs \u001b[38;5;11mSvSvkvS\u001b[0m \u001b[38;5;11mSvsvkvS\u001b[0m SvkvSvs \u001b[38;5;11msvkvSvs\u001b[0m svkvsvS \u001b[38;5;11msvkvsvs\u001b[0m \u001b[38;5;11msvSvkvs\u001b[0m \u001b[38;5;11msvsvkvs\u001b[0m Svsvkvs \u001b[38;5;11mSvsvkvS\u001b[0m SvkvSvs \u001b[38;5;11mSvkvSvS\u001b[0m \u001b[38;5;11mSvsvkvS\u001b[0m \u001b[38;5;11mSvSvkvS\u001b[0m svkvsvS \u001b[38;5;11mSvkvsvS\u001b[0m Svsvkvs \u001b[38;5;11msvsvkvs\u001b[0m \u001b[38;5;11msvkvSvs\u001b[0m \u001b[38;5;11msvkvsvs\u001b[0m svSvkvS \u001b[38;5;11msvSvkvs\u001b[0m svSvkvS \u001b[38;5;11mSvSvkvS\u001b[0m \u001b[38;5;11mSvkvsvS\u001b[0m \u001b[38;5;11mSvkvSvS\u001b[0m Svsvkvs \u001b[38;5;11mSvsvkvS\u001b[0m Svsvkvs \u001b[38;5;11msvsvkvs\u001b[0m \u001b[38;5;11msvSvkvs\u001b[0m \u001b[38;5;11msvsvkvs\u001b[0m svSvkvS \u001b[38;5;11msvSvkvs\u001b[0m svSvkvS \u001b[38;5;11mSvSvkvS\u001b[0m \u001b[38;5;11mSvsvkvS\u001b[0m \u001b[38;5;11mSvSvkvS\u001b[0m svkvsvS \u001b[38;5;11mSvkvsvS\u001b[0m svkvsvS \u001b[38;5;11msvkvsvs\u001b[0m \u001b[38;5;11msvkvSvs\u001b[0m \u001b[38;5;11msvkvsvs\u001b[0m SvkvSvs \u001b[38;5;11msvkvSvs\u001b[0m SvkvSvs \u001b[38;5;11mSvkvSvS\u001b[0m \u001b[38;5;11mSvkvsvS\u001b[0m \u001b[38;5;11mSvkvSvS\u001b[0m\n",
      "What does this accept?   (highlighted magenta)                      \u001b[38;5;13msvkvSvs\u001b[0m SvkvSvs svkvsvs svkvsvS SvSvkvS \u001b[38;5;13mSvsvkvS\u001b[0m \u001b[38;5;13mSvsvkvS\u001b[0m Svsvkvs SvSvkvS svSvkvS svkvsvs \u001b[38;5;13msvkvSvs\u001b[0m \u001b[38;5;13msvSvkvs\u001b[0m svSvkvS SvkvSvS SvkvSvs svsvkvs \u001b[38;5;13msvSvkvs\u001b[0m \u001b[38;5;13mSvkvsvS\u001b[0m svkvsvS svsvkvs Svsvkvs SvkvSvS \u001b[38;5;13mSvkvsvS\u001b[0m \u001b[38;5;13msvSvkvs\u001b[0m svSvkvS SvkvSvS SvkvSvs SvkvSvS \u001b[38;5;13mSvkvsvS\u001b[0m \u001b[38;5;13mSvkvsvS\u001b[0m svkvsvS SvSvkvS svSvkvS svsvkvs \u001b[38;5;13msvSvkvs\u001b[0m \u001b[38;5;13msvkvSvs\u001b[0m SvkvSvs svkvsvs svkvsvS svkvsvs \u001b[38;5;13msvkvSvs\u001b[0m \u001b[38;5;13mSvsvkvS\u001b[0m Svsvkvs svsvkvs Svsvkvs SvSvkvS \u001b[38;5;13mSvsvkvS\u001b[0m SvkvSvs \u001b[38;5;13msvkvSvs\u001b[0m svkvsvS svkvsvs \u001b[38;5;13msvSvkvs\u001b[0m svsvkvs Svsvkvs \u001b[38;5;13mSvsvkvS\u001b[0m SvkvSvs SvkvSvS \u001b[38;5;13mSvsvkvS\u001b[0m SvSvkvS svkvsvS \u001b[38;5;13mSvkvsvS\u001b[0m Svsvkvs svsvkvs \u001b[38;5;13msvkvSvs\u001b[0m svkvsvs svSvkvS \u001b[38;5;13msvSvkvs\u001b[0m svSvkvS SvSvkvS \u001b[38;5;13mSvkvsvS\u001b[0m SvkvSvS Svsvkvs \u001b[38;5;13mSvsvkvS\u001b[0m Svsvkvs svsvkvs \u001b[38;5;13msvSvkvs\u001b[0m svsvkvs svSvkvS \u001b[38;5;13msvSvkvs\u001b[0m svSvkvS SvSvkvS \u001b[38;5;13mSvsvkvS\u001b[0m SvSvkvS svkvsvS \u001b[38;5;13mSvkvsvS\u001b[0m svkvsvS svkvsvs \u001b[38;5;13msvkvSvs\u001b[0m svkvsvs SvkvSvs \u001b[38;5;13msvkvSvs\u001b[0m SvkvSvs SvkvSvS \u001b[38;5;13mSvkvsvS\u001b[0m SvkvSvS\n",
      "Does the grammar make the same judgement as the sh acceptor? 33.33% \u001b[38;5;9msvkvSvs\u001b[0m \u001b[38;5;10mSvkvSvs\u001b[0m \u001b[38;5;9msvkvsvs\u001b[0m \u001b[38;5;10msvkvsvS\u001b[0m \u001b[38;5;9mSvSvkvS\u001b[0m \u001b[38;5;9mSvsvkvS\u001b[0m \u001b[38;5;9mSvsvkvS\u001b[0m \u001b[38;5;10mSvsvkvs\u001b[0m \u001b[38;5;9mSvSvkvS\u001b[0m \u001b[38;5;10msvSvkvS\u001b[0m \u001b[38;5;9msvkvsvs\u001b[0m \u001b[38;5;9msvkvSvs\u001b[0m \u001b[38;5;9msvSvkvs\u001b[0m \u001b[38;5;10msvSvkvS\u001b[0m \u001b[38;5;9mSvkvSvS\u001b[0m \u001b[38;5;10mSvkvSvs\u001b[0m \u001b[38;5;9msvsvkvs\u001b[0m \u001b[38;5;9msvSvkvs\u001b[0m \u001b[38;5;9mSvkvsvS\u001b[0m \u001b[38;5;10msvkvsvS\u001b[0m \u001b[38;5;9msvsvkvs\u001b[0m \u001b[38;5;10mSvsvkvs\u001b[0m \u001b[38;5;9mSvkvSvS\u001b[0m \u001b[38;5;9mSvkvsvS\u001b[0m \u001b[38;5;9msvSvkvs\u001b[0m \u001b[38;5;10msvSvkvS\u001b[0m \u001b[38;5;9mSvkvSvS\u001b[0m \u001b[38;5;10mSvkvSvs\u001b[0m \u001b[38;5;9mSvkvSvS\u001b[0m \u001b[38;5;9mSvkvsvS\u001b[0m \u001b[38;5;9mSvkvsvS\u001b[0m \u001b[38;5;10msvkvsvS\u001b[0m \u001b[38;5;9mSvSvkvS\u001b[0m \u001b[38;5;10msvSvkvS\u001b[0m \u001b[38;5;9msvsvkvs\u001b[0m \u001b[38;5;9msvSvkvs\u001b[0m \u001b[38;5;9msvkvSvs\u001b[0m \u001b[38;5;10mSvkvSvs\u001b[0m \u001b[38;5;9msvkvsvs\u001b[0m \u001b[38;5;10msvkvsvS\u001b[0m \u001b[38;5;9msvkvsvs\u001b[0m \u001b[38;5;9msvkvSvs\u001b[0m \u001b[38;5;9mSvsvkvS\u001b[0m \u001b[38;5;10mSvsvkvs\u001b[0m \u001b[38;5;9msvsvkvs\u001b[0m \u001b[38;5;10mSvsvkvs\u001b[0m \u001b[38;5;9mSvSvkvS\u001b[0m \u001b[38;5;9mSvsvkvS\u001b[0m \u001b[38;5;10mSvkvSvs\u001b[0m \u001b[38;5;9msvkvSvs\u001b[0m \u001b[38;5;10msvkvsvS\u001b[0m \u001b[38;5;9msvkvsvs\u001b[0m \u001b[38;5;9msvSvkvs\u001b[0m \u001b[38;5;9msvsvkvs\u001b[0m \u001b[38;5;10mSvsvkvs\u001b[0m \u001b[38;5;9mSvsvkvS\u001b[0m \u001b[38;5;10mSvkvSvs\u001b[0m \u001b[38;5;9mSvkvSvS\u001b[0m \u001b[38;5;9mSvsvkvS\u001b[0m \u001b[38;5;9mSvSvkvS\u001b[0m \u001b[38;5;10msvkvsvS\u001b[0m \u001b[38;5;9mSvkvsvS\u001b[0m \u001b[38;5;10mSvsvkvs\u001b[0m \u001b[38;5;9msvsvkvs\u001b[0m \u001b[38;5;9msvkvSvs\u001b[0m \u001b[38;5;9msvkvsvs\u001b[0m \u001b[38;5;10msvSvkvS\u001b[0m \u001b[38;5;9msvSvkvs\u001b[0m \u001b[38;5;10msvSvkvS\u001b[0m \u001b[38;5;9mSvSvkvS\u001b[0m \u001b[38;5;9mSvkvsvS\u001b[0m \u001b[38;5;9mSvkvSvS\u001b[0m \u001b[38;5;10mSvsvkvs\u001b[0m \u001b[38;5;9mSvsvkvS\u001b[0m \u001b[38;5;10mSvsvkvs\u001b[0m \u001b[38;5;9msvsvkvs\u001b[0m \u001b[38;5;9msvSvkvs\u001b[0m \u001b[38;5;9msvsvkvs\u001b[0m \u001b[38;5;10msvSvkvS\u001b[0m \u001b[38;5;9msvSvkvs\u001b[0m \u001b[38;5;10msvSvkvS\u001b[0m \u001b[38;5;9mSvSvkvS\u001b[0m \u001b[38;5;9mSvsvkvS\u001b[0m \u001b[38;5;9mSvSvkvS\u001b[0m \u001b[38;5;10msvkvsvS\u001b[0m \u001b[38;5;9mSvkvsvS\u001b[0m \u001b[38;5;10msvkvsvS\u001b[0m \u001b[38;5;9msvkvsvs\u001b[0m \u001b[38;5;9msvkvSvs\u001b[0m \u001b[38;5;9msvkvsvs\u001b[0m \u001b[38;5;10mSvkvSvs\u001b[0m \u001b[38;5;9msvkvSvs\u001b[0m \u001b[38;5;10mSvkvSvs\u001b[0m \u001b[38;5;9mSvkvSvS\u001b[0m \u001b[38;5;9mSvkvsvS\u001b[0m \u001b[38;5;9mSvkvSvS\u001b[0m\n",
      "Does the grammar make the same judgement as the fl acceptor? 66.67% \u001b[38;5;10msvkvSvs\u001b[0m \u001b[38;5;10mSvkvSvs\u001b[0m \u001b[38;5;9msvkvsvs\u001b[0m \u001b[38;5;10msvkvsvS\u001b[0m \u001b[38;5;9mSvSvkvS\u001b[0m \u001b[38;5;10mSvsvkvS\u001b[0m \u001b[38;5;10mSvsvkvS\u001b[0m \u001b[38;5;10mSvsvkvs\u001b[0m \u001b[38;5;9mSvSvkvS\u001b[0m \u001b[38;5;10msvSvkvS\u001b[0m \u001b[38;5;9msvkvsvs\u001b[0m \u001b[38;5;10msvkvSvs\u001b[0m \u001b[38;5;10msvSvkvs\u001b[0m \u001b[38;5;10msvSvkvS\u001b[0m \u001b[38;5;9mSvkvSvS\u001b[0m \u001b[38;5;10mSvkvSvs\u001b[0m \u001b[38;5;9msvsvkvs\u001b[0m \u001b[38;5;10msvSvkvs\u001b[0m \u001b[38;5;10mSvkvsvS\u001b[0m \u001b[38;5;10msvkvsvS\u001b[0m \u001b[38;5;9msvsvkvs\u001b[0m \u001b[38;5;10mSvsvkvs\u001b[0m \u001b[38;5;9mSvkvSvS\u001b[0m \u001b[38;5;10mSvkvsvS\u001b[0m \u001b[38;5;10msvSvkvs\u001b[0m \u001b[38;5;10msvSvkvS\u001b[0m \u001b[38;5;9mSvkvSvS\u001b[0m \u001b[38;5;10mSvkvSvs\u001b[0m \u001b[38;5;9mSvkvSvS\u001b[0m \u001b[38;5;10mSvkvsvS\u001b[0m \u001b[38;5;10mSvkvsvS\u001b[0m \u001b[38;5;10msvkvsvS\u001b[0m \u001b[38;5;9mSvSvkvS\u001b[0m \u001b[38;5;10msvSvkvS\u001b[0m \u001b[38;5;9msvsvkvs\u001b[0m \u001b[38;5;10msvSvkvs\u001b[0m \u001b[38;5;10msvkvSvs\u001b[0m \u001b[38;5;10mSvkvSvs\u001b[0m \u001b[38;5;9msvkvsvs\u001b[0m \u001b[38;5;10msvkvsvS\u001b[0m \u001b[38;5;9msvkvsvs\u001b[0m \u001b[38;5;10msvkvSvs\u001b[0m \u001b[38;5;10mSvsvkvS\u001b[0m \u001b[38;5;10mSvsvkvs\u001b[0m \u001b[38;5;9msvsvkvs\u001b[0m \u001b[38;5;10mSvsvkvs\u001b[0m \u001b[38;5;9mSvSvkvS\u001b[0m \u001b[38;5;10mSvsvkvS\u001b[0m \u001b[38;5;10mSvkvSvs\u001b[0m \u001b[38;5;10msvkvSvs\u001b[0m \u001b[38;5;10msvkvsvS\u001b[0m \u001b[38;5;9msvkvsvs\u001b[0m \u001b[38;5;10msvSvkvs\u001b[0m \u001b[38;5;9msvsvkvs\u001b[0m \u001b[38;5;10mSvsvkvs\u001b[0m \u001b[38;5;10mSvsvkvS\u001b[0m \u001b[38;5;10mSvkvSvs\u001b[0m \u001b[38;5;9mSvkvSvS\u001b[0m \u001b[38;5;10mSvsvkvS\u001b[0m \u001b[38;5;9mSvSvkvS\u001b[0m \u001b[38;5;10msvkvsvS\u001b[0m \u001b[38;5;10mSvkvsvS\u001b[0m \u001b[38;5;10mSvsvkvs\u001b[0m \u001b[38;5;9msvsvkvs\u001b[0m \u001b[38;5;10msvkvSvs\u001b[0m \u001b[38;5;9msvkvsvs\u001b[0m \u001b[38;5;10msvSvkvS\u001b[0m \u001b[38;5;10msvSvkvs\u001b[0m \u001b[38;5;10msvSvkvS\u001b[0m \u001b[38;5;9mSvSvkvS\u001b[0m \u001b[38;5;10mSvkvsvS\u001b[0m \u001b[38;5;9mSvkvSvS\u001b[0m \u001b[38;5;10mSvsvkvs\u001b[0m \u001b[38;5;10mSvsvkvS\u001b[0m \u001b[38;5;10mSvsvkvs\u001b[0m \u001b[38;5;9msvsvkvs\u001b[0m \u001b[38;5;10msvSvkvs\u001b[0m \u001b[38;5;9msvsvkvs\u001b[0m \u001b[38;5;10msvSvkvS\u001b[0m \u001b[38;5;10msvSvkvs\u001b[0m \u001b[38;5;10msvSvkvS\u001b[0m \u001b[38;5;9mSvSvkvS\u001b[0m \u001b[38;5;10mSvsvkvS\u001b[0m \u001b[38;5;9mSvSvkvS\u001b[0m \u001b[38;5;10msvkvsvS\u001b[0m \u001b[38;5;10mSvkvsvS\u001b[0m \u001b[38;5;10msvkvsvS\u001b[0m \u001b[38;5;9msvkvsvs\u001b[0m \u001b[38;5;10msvkvSvs\u001b[0m \u001b[38;5;9msvkvsvs\u001b[0m \u001b[38;5;10mSvkvSvs\u001b[0m \u001b[38;5;10msvkvSvs\u001b[0m \u001b[38;5;10mSvkvSvs\u001b[0m \u001b[38;5;9mSvkvSvS\u001b[0m \u001b[38;5;10mSvkvsvS\u001b[0m \u001b[38;5;9mSvkvSvS\u001b[0m\n"
     ]
    }
   ],
   "source": [
    "#test\n",
    "print('Evaluating g_sh')\n",
    "print(f'What should this accept? (highlighted yellow)                       {\" \".join([cz(\"yellow\", w) if sh_acceptor(w) else w for w in test])}')\n",
    "print(f'What does this accept?   (highlighted magenta)                      {\" \".join([cz(\"magenta\", w) if g_sh.scan(w) else w for w in test])}')\n",
    "g_sh_match_sh = [w for w in test if sh_acceptor(w) == g_sh.scan(w)]\n",
    "g_sh_match_fl = [w for w in test if fl_acceptor(w) == g_sh.scan(w)]\n",
    "print(f\"Does the grammar make the same judgement as the sh acceptor? {format(len(g_sh_match_sh)/len(test)*100, '.2f')}% {' '.join(cz('green' if w in g_sh_match_sh else 'red', w) for w in test)}\")\n",
    "print(f\"Does the grammar make the same judgement as the fl acceptor? {format(len(g_sh_match_fl)/len(test)*100, '.2f')}% {' '.join(cz('green' if w in g_sh_match_fl else 'red', w) for w in test)}\")\n",
    "print()\n",
    "\n",
    "print('Evaluating g_fl')\n",
    "print(f'What should this accept? (highlighted yellow)                       {\" \".join([cz(\"yellow\", w) if fl_acceptor(w) else w for w in test])}')\n",
    "print(f'What does this accept?   (highlighted magenta)                      {\" \".join([cz(\"magenta\", w) if g_fl.scan(w) else w for w in test])}')\n",
    "g_fl_match_sh = [w for w in test if sh_acceptor(w) == g_fl.scan(w)]\n",
    "g_fl_match_fl = [w for w in test if fl_acceptor(w) == g_fl.scan(w)]\n",
    "print(f\"Does the grammar make the same judgement as the sh acceptor? {format(len(g_fl_match_sh)/len(test)*100, '.2f')}% {' '.join(cz('green' if w in g_fl_match_sh else 'red', w) for w in test)}\")\n",
    "print(f\"Does the grammar make the same judgement as the fl acceptor? {format(len(g_fl_match_fl)/len(test)*100, '.2f')}% {' '.join(cz('green' if w in g_fl_match_fl else 'red', w) for w in test)}\")\n",
    "print()\n",
    "\n",
    "print('Evaluating g_ifl')\n",
    "print(f'What should this accept? (highlighted yellow)                       {\" \".join([cz(\"yellow\", w) if fl_acceptor(w) else w for w in test])}')\n",
    "print(f'What does this accept?   (highlighted magenta)                      {\" \".join([cz(\"magenta\", w) if g_ifl.scan(w) else w for w in test])}')\n",
    "g_ifl_match_sh = [w for w in test if sh_acceptor(w) == g_ifl.scan(w)]\n",
    "g_ifl_match_fl = [w for w in test if fl_acceptor(w) == g_ifl.scan(w)]\n",
    "print(f\"Does the grammar make the same judgement as the sh acceptor? {format(len(g_ifl_match_sh)/len(test)*100, '.2f')}% {' '.join(cz('green' if w in g_ifl_match_sh else 'red', w) for w in test)}\")\n",
    "print(f\"Does the grammar make the same judgement as the fl acceptor? {format(len(g_ifl_match_fl)/len(test)*100, '.2f')}% {' '.join(cz('green' if w in g_ifl_match_fl else 'red', w) for w in test)}\")"
   ]
  }
 ],
 "metadata": {
  "kernelspec": {
   "display_name": "Python 3",
   "language": "python",
   "name": "python3"
  },
  "language_info": {
   "codemirror_mode": {
    "name": "ipython",
    "version": 3
   },
   "file_extension": ".py",
   "mimetype": "text/x-python",
   "name": "python",
   "nbconvert_exporter": "python",
   "pygments_lexer": "ipython3",
   "version": "3.10.11"
  },
  "orig_nbformat": 4
 },
 "nbformat": 4,
 "nbformat_minor": 2
}
