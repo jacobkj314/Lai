{
 "cells": [
  {
   "cell_type": "code",
   "execution_count": 1,
   "metadata": {},
   "outputs": [
    {
     "name": "stdout",
     "output_type": "stream",
     "text": [
      "c:\\C\\!2023Spring\\UCUR\\SCIL\\codebase\\local_sigmapie\\code\n",
      "\n",
      "You successfully loaded SigmaPie. \n",
      "\n",
      "Formal language classes and grammars available:\n",
      "\t* strictly piecewise: SP(alphabet, grammar, k, data, polar);\n",
      "\t* strictly local: SL(alphabet, grammar, k, data, edges, polar);\n",
      "\t* tier-based strictly local: TSL(alphabet, grammar, k, data, edges, polar, tier);\n",
      "\t* multiple tier-based strictly local: MTSL(alphabet, grammar, k, data, edges, polar).\n",
      "\n",
      "\t* multiple input-sensitive tier-based strictly local: MITSL(alphabet, grammar, k, data, edges, polar).\n",
      "\n",
      "Alternatively, you can initialize a transducer: FST(states, sigma, gamma, initial, transitions, stout).\n",
      "Learning algorithm:\n",
      "\tOSTIA: ostia(sample, sigma, gamma).\n",
      "c:\\C\\!2023Spring\\UCUR\\SCIL\\codebase\n"
     ]
    }
   ],
   "source": [
    "%cd local_sigmapie/code/\n",
    "from main import *\n",
    "%cd ../.."
   ]
  },
  {
   "attachments": {},
   "cell_type": "markdown",
   "metadata": {},
   "source": [
    "# Setup"
   ]
  },
  {
   "cell_type": "code",
   "execution_count": 2,
   "metadata": {},
   "outputs": [],
   "source": [
    "# Setting up the training sets\n",
    "\n",
    "sh = [\n",
    "'SaSekuS', 'sasokos', 'SakuSuS', 'sakesas',\n",
    "'SeSukuS', 'sesukos', 'SekeSuS', 'sekoses',\n",
    "'SiSokeS', 'sisekos', 'SikiSoS', 'sikisis',\n",
    "'SoSokeS', 'sosakos', 'SokaSeS', 'sokusas',\n",
    "'SuSakiS', 'susukos', 'SukoSoS', 'sukasus',\n",
    "'SaSokuS', 'sasakus', 'SakuSiS', 'sakisos',\n",
    "'SeSokiS', 'sesukis', 'SekeSoS', 'sekeses',\n",
    "'SiSukoS', 'sisokos', 'SikeSaS', 'sikasos',\n",
    "'SoSokuS', 'sosikas', 'SokeSiS', 'sokosis',\n",
    "'SuSakeS', 'susokis', 'SukoSeS', 'sukesas',\n",
    "]\n",
    "\n",
    "fl = [\n",
    "'SasokuS', 'saSakus', 'SaSekuS', 'sasokos',\n",
    "'SesokiS', 'seSukis', 'SeSukuS', 'sesukos',\n",
    "'SisukoS', 'siSokos', 'SiSokeS', 'sisekos',\n",
    "'SosokuS', 'soSikas', 'SoSokeS', 'sosakos',\n",
    "'SusakeS', 'suSokis', 'SuSakiS', 'susukos',\n",
    "'SakusiS', 'sakiSos', 'SakuSuS', 'sakesas',\n",
    "'SekesoS', 'sekeSes', 'SekeSuS', 'sekoses',\n",
    "'SikesaS', 'sikaSos', 'SikiSoS', 'sikisis',\n",
    "'SokesiS', 'sokoSis', 'SokaSeS', 'sokusas',\n",
    "'SukoseS', 'sukeSas', 'SukoSoS', 'sukasus'\n",
    "]\n",
    "\n",
    "ifl = [\n",
    "'SasokuS', 'saSakus', 'SakusiS', 'sakiSos',\n",
    "'SesokiS', 'seSukis', 'SekesoS', 'sekeSes',\n",
    "'SisukoS', 'siSokos', 'SikesaS', 'sikaSos',\n",
    "'SosokuS', 'soSikas', 'SokesiS', 'sokoSis',\n",
    "'SusakeS', 'suSokis', 'SukoseS', 'sukeSas',\n",
    "'SasekuS', 'saSokos', 'SakusuS', 'sakeSas',\n",
    "'SesukuS', 'seSukos', 'SekesuS', 'sekoSes',\n",
    "'SisokeS', 'siSekos', 'SikisoS', 'sikiSis',\n",
    "'SosokeS', 'soSakos', 'SokaseS', 'sokuSas',\n",
    "'SusakiS', 'suSukos', 'SukosoS', 'sukaSus'\n",
    "]"
   ]
  },
  {
   "cell_type": "code",
   "execution_count": 3,
   "metadata": {},
   "outputs": [],
   "source": [
    "#learning the grammars\n",
    "g_sh = MITSL(polar='n')\n",
    "g_sh.data = sh\n",
    "g_sh.extract_alphabet()\n",
    "g_sh.learn()\n",
    "\n",
    "g_fl = MITSL(polar='n')\n",
    "g_fl.data = fl\n",
    "g_fl.extract_alphabet()\n",
    "g_fl.learn()\n",
    "\n",
    "g_ifl = MITSL(polar='n')\n",
    "g_ifl.data = ifl\n",
    "g_ifl.extract_alphabet()\n",
    "g_ifl.learn()"
   ]
  },
  {
   "cell_type": "code",
   "execution_count": 36,
   "metadata": {},
   "outputs": [],
   "source": [
    "#setting up acceptors\n",
    "sh_acceptor = lambda w : len(set(filter(lambda c : c in {'s','S'}, w))) <= 1\n",
    "fl_acceptor = lambda w : w == '' or w[0] == w[-1]"
   ]
  },
  {
   "attachments": {},
   "cell_type": "markdown",
   "metadata": {},
   "source": [
    "# Evaluation Pipeline 1"
   ]
  },
  {
   "cell_type": "code",
   "execution_count": 5,
   "metadata": {},
   "outputs": [],
   "source": [
    "#setting up test set\n",
    "test = [\n",
    "'sekoSos', 'SekoSos', 'sukisas', 'sukisaS', 'SoSukoS', 'SosukoS',\n",
    "'SasokaS', 'Sasokas', 'SeSekaS', 'seSekaS', 'sukesus', 'sukeSus',\n",
    "'suSekos', 'suSekoS', 'SokuSiS', 'SokuSis', 'sisakus', 'siSakus',\n",
    "'SikisaS', 'sikisaS', 'sisokus', 'Sisokus', 'SakaSoS', 'SakasoS',\n",
    "'seSokos', 'seSokoS', 'SekeSaS', 'SekeSas', 'SokuSoS', 'SokusoS',\n",
    "'SakosaS', 'sakosaS', 'SoSukiS', 'soSukiS', 'susekus', 'suSekus',\n",
    "'sukeSos', 'SukeSos', 'sikosus', 'sikosuS', 'sikasus', 'sikaSus',\n",
    "'SisikaS', 'Sisikas', 'susikas', 'Susikas', 'SaSakoS', 'SasakoS',\n",
    "'SikuSis', 'sikuSis', 'sokasiS', 'sokasis', 'soSakas', 'sosakas',\n",
    "'Sesakis', 'SesakiS', 'SikoSis', 'SikoSiS', 'SusekiS', 'SuSekiS',\n",
    "'sokisoS', 'SokisoS', 'Sesikos', 'sesikos', 'sakuSes', 'sakuses',\n",
    "'saSekeS', 'saSekes', 'saSikuS', 'SaSikuS', 'SekosaS', 'SekoSaS',\n",
    "'Sosikos', 'SosikoS', 'Sosakis', 'sosakis', 'saSukes', 'sasukes',\n",
    "'siSukiS', 'siSukis', 'siSokiS', 'SiSokiS', 'SesokaS', 'SeSokaS',\n",
    "'sekasiS', 'SekasiS', 'sekisoS', 'sekisos', 'sokaSas', 'sokasas',\n",
    "'SakeSes', 'sakeSes', 'SakiSus', 'SakiSuS', 'SukesiS', 'SukeSiS'\n",
    "]"
   ]
  },
  {
   "cell_type": "code",
   "execution_count": 14,
   "metadata": {},
   "outputs": [
    {
     "name": "stdout",
     "output_type": "stream",
     "text": [
      "Collecting git+https://github.com/christopherdef/ColorTTY\n",
      "  Cloning https://github.com/christopherdef/ColorTTY to c:\\users\\jacob\\appdata\\local\\temp\\pip-req-build-osnnf5aq\n",
      "  Resolved https://github.com/christopherdef/ColorTTY to commit fc7c70bc39bfad4c40e3fa41feb86af084ddb720\n",
      "  Preparing metadata (setup.py): started\n",
      "  Preparing metadata (setup.py): finished with status 'done'\n"
     ]
    },
    {
     "name": "stderr",
     "output_type": "stream",
     "text": [
      "  Running command git clone --filter=blob:none --quiet https://github.com/christopherdef/ColorTTY 'C:\\Users\\Jacob\\AppData\\Local\\Temp\\pip-req-build-osnnf5aq'\n",
      "\n",
      "[notice] A new release of pip available: 22.2.2 -> 23.1.2\n",
      "[notice] To update, run: C:\\Users\\Jacob\\AppData\\Local\\Microsoft\\WindowsApps\\PythonSoftwareFoundation.Python.3.10_qbz5n2kfra8p0\\python.exe -m pip install --upgrade pip\n"
     ]
    }
   ],
   "source": [
    "!pip install git+https://github.com/christopherdef/ColorTTY\n",
    "from color import Colorizer\n",
    "cz = Colorizer()"
   ]
  },
  {
   "cell_type": "code",
   "execution_count": 46,
   "metadata": {},
   "outputs": [
    {
     "name": "stdout",
     "output_type": "stream",
     "text": [
      "Evaluating g_sh\n",
      "What should this accept? (highlighted yellow)                       sekoSos SekoSos \u001b[38;5;11msukisas\u001b[0m sukisaS \u001b[38;5;11mSoSukoS\u001b[0m SosukoS SasokaS Sasokas \u001b[38;5;11mSeSekaS\u001b[0m seSekaS \u001b[38;5;11msukesus\u001b[0m sukeSus suSekos suSekoS \u001b[38;5;11mSokuSiS\u001b[0m SokuSis \u001b[38;5;11msisakus\u001b[0m siSakus SikisaS sikisaS \u001b[38;5;11msisokus\u001b[0m Sisokus \u001b[38;5;11mSakaSoS\u001b[0m SakasoS seSokos seSokoS \u001b[38;5;11mSekeSaS\u001b[0m SekeSas \u001b[38;5;11mSokuSoS\u001b[0m SokusoS SakosaS sakosaS \u001b[38;5;11mSoSukiS\u001b[0m soSukiS \u001b[38;5;11msusekus\u001b[0m suSekus sukeSos SukeSos \u001b[38;5;11msikosus\u001b[0m sikosuS \u001b[38;5;11msikasus\u001b[0m sikaSus SisikaS Sisikas \u001b[38;5;11msusikas\u001b[0m Susikas \u001b[38;5;11mSaSakoS\u001b[0m SasakoS SikuSis sikuSis sokasiS \u001b[38;5;11msokasis\u001b[0m soSakas \u001b[38;5;11msosakas\u001b[0m Sesakis SesakiS SikoSis \u001b[38;5;11mSikoSiS\u001b[0m SusekiS \u001b[38;5;11mSuSekiS\u001b[0m sokisoS SokisoS Sesikos \u001b[38;5;11msesikos\u001b[0m sakuSes \u001b[38;5;11msakuses\u001b[0m saSekeS saSekes saSikuS \u001b[38;5;11mSaSikuS\u001b[0m SekosaS \u001b[38;5;11mSekoSaS\u001b[0m Sosikos SosikoS Sosakis \u001b[38;5;11msosakis\u001b[0m saSukes \u001b[38;5;11msasukes\u001b[0m siSukiS siSukis siSokiS \u001b[38;5;11mSiSokiS\u001b[0m SesokaS \u001b[38;5;11mSeSokaS\u001b[0m sekasiS SekasiS sekisoS \u001b[38;5;11msekisos\u001b[0m sokaSas \u001b[38;5;11msokasas\u001b[0m SakeSes sakeSes SakiSus \u001b[38;5;11mSakiSuS\u001b[0m SukesiS \u001b[38;5;11mSukeSiS\u001b[0m\n",
      "What does this accept?   (highlighted magenta)                      sekoSos SekoSos sukisas sukisaS SoSukoS SosukoS SasokaS Sasokas SeSekaS seSekaS sukesus sukeSus suSekos suSekoS SokuSiS SokuSis sisakus siSakus SikisaS sikisaS sisokus Sisokus SakaSoS SakasoS seSokos seSokoS SekeSaS SekeSas SokuSoS SokusoS SakosaS sakosaS SoSukiS soSukiS susekus suSekus sukeSos SukeSos sikosus sikosuS sikasus sikaSus SisikaS Sisikas susikas Susikas SaSakoS SasakoS SikuSis sikuSis sokasiS sokasis soSakas sosakas Sesakis SesakiS SikoSis SikoSiS SusekiS SuSekiS sokisoS SokisoS Sesikos sesikos sakuSes sakuses saSekeS saSekes saSikuS SaSikuS SekosaS SekoSaS Sosikos SosikoS Sosakis sosakis saSukes sasukes siSukiS siSukis siSokiS SiSokiS SesokaS SeSokaS sekasiS SekasiS sekisoS sekisos sokaSas sokasas SakeSes sakeSes SakiSus SakiSuS SukesiS SukeSiS\n",
      "Does the grammar make the same judgement as the sh acceptor? 66.67% \u001b[38;5;10msekoSos\u001b[0m \u001b[38;5;10mSekoSos\u001b[0m \u001b[38;5;9msukisas\u001b[0m \u001b[38;5;10msukisaS\u001b[0m \u001b[38;5;9mSoSukoS\u001b[0m \u001b[38;5;10mSosukoS\u001b[0m \u001b[38;5;10mSasokaS\u001b[0m \u001b[38;5;10mSasokas\u001b[0m \u001b[38;5;9mSeSekaS\u001b[0m \u001b[38;5;10mseSekaS\u001b[0m \u001b[38;5;9msukesus\u001b[0m \u001b[38;5;10msukeSus\u001b[0m \u001b[38;5;10msuSekos\u001b[0m \u001b[38;5;10msuSekoS\u001b[0m \u001b[38;5;9mSokuSiS\u001b[0m \u001b[38;5;10mSokuSis\u001b[0m \u001b[38;5;9msisakus\u001b[0m \u001b[38;5;10msiSakus\u001b[0m \u001b[38;5;10mSikisaS\u001b[0m \u001b[38;5;10msikisaS\u001b[0m \u001b[38;5;9msisokus\u001b[0m \u001b[38;5;10mSisokus\u001b[0m \u001b[38;5;9mSakaSoS\u001b[0m \u001b[38;5;10mSakasoS\u001b[0m \u001b[38;5;10mseSokos\u001b[0m \u001b[38;5;10mseSokoS\u001b[0m \u001b[38;5;9mSekeSaS\u001b[0m \u001b[38;5;10mSekeSas\u001b[0m \u001b[38;5;9mSokuSoS\u001b[0m \u001b[38;5;10mSokusoS\u001b[0m \u001b[38;5;10mSakosaS\u001b[0m \u001b[38;5;10msakosaS\u001b[0m \u001b[38;5;9mSoSukiS\u001b[0m \u001b[38;5;10msoSukiS\u001b[0m \u001b[38;5;9msusekus\u001b[0m \u001b[38;5;10msuSekus\u001b[0m \u001b[38;5;10msukeSos\u001b[0m \u001b[38;5;10mSukeSos\u001b[0m \u001b[38;5;9msikosus\u001b[0m \u001b[38;5;10msikosuS\u001b[0m \u001b[38;5;9msikasus\u001b[0m \u001b[38;5;10msikaSus\u001b[0m \u001b[38;5;10mSisikaS\u001b[0m \u001b[38;5;10mSisikas\u001b[0m \u001b[38;5;9msusikas\u001b[0m \u001b[38;5;10mSusikas\u001b[0m \u001b[38;5;9mSaSakoS\u001b[0m \u001b[38;5;10mSasakoS\u001b[0m \u001b[38;5;10mSikuSis\u001b[0m \u001b[38;5;10msikuSis\u001b[0m \u001b[38;5;10msokasiS\u001b[0m \u001b[38;5;9msokasis\u001b[0m \u001b[38;5;10msoSakas\u001b[0m \u001b[38;5;9msosakas\u001b[0m \u001b[38;5;10mSesakis\u001b[0m \u001b[38;5;10mSesakiS\u001b[0m \u001b[38;5;10mSikoSis\u001b[0m \u001b[38;5;9mSikoSiS\u001b[0m \u001b[38;5;10mSusekiS\u001b[0m \u001b[38;5;9mSuSekiS\u001b[0m \u001b[38;5;10msokisoS\u001b[0m \u001b[38;5;10mSokisoS\u001b[0m \u001b[38;5;10mSesikos\u001b[0m \u001b[38;5;9msesikos\u001b[0m \u001b[38;5;10msakuSes\u001b[0m \u001b[38;5;9msakuses\u001b[0m \u001b[38;5;10msaSekeS\u001b[0m \u001b[38;5;10msaSekes\u001b[0m \u001b[38;5;10msaSikuS\u001b[0m \u001b[38;5;9mSaSikuS\u001b[0m \u001b[38;5;10mSekosaS\u001b[0m \u001b[38;5;9mSekoSaS\u001b[0m \u001b[38;5;10mSosikos\u001b[0m \u001b[38;5;10mSosikoS\u001b[0m \u001b[38;5;10mSosakis\u001b[0m \u001b[38;5;9msosakis\u001b[0m \u001b[38;5;10msaSukes\u001b[0m \u001b[38;5;9msasukes\u001b[0m \u001b[38;5;10msiSukiS\u001b[0m \u001b[38;5;10msiSukis\u001b[0m \u001b[38;5;10msiSokiS\u001b[0m \u001b[38;5;9mSiSokiS\u001b[0m \u001b[38;5;10mSesokaS\u001b[0m \u001b[38;5;9mSeSokaS\u001b[0m \u001b[38;5;10msekasiS\u001b[0m \u001b[38;5;10mSekasiS\u001b[0m \u001b[38;5;10msekisoS\u001b[0m \u001b[38;5;9msekisos\u001b[0m \u001b[38;5;10msokaSas\u001b[0m \u001b[38;5;9msokasas\u001b[0m \u001b[38;5;10mSakeSes\u001b[0m \u001b[38;5;10msakeSes\u001b[0m \u001b[38;5;10mSakiSus\u001b[0m \u001b[38;5;9mSakiSuS\u001b[0m \u001b[38;5;10mSukesiS\u001b[0m \u001b[38;5;9mSukeSiS\u001b[0m\n",
      "Does the grammar make the same judgement as the fl acceptor? 33.33% \u001b[38;5;9msekoSos\u001b[0m \u001b[38;5;10mSekoSos\u001b[0m \u001b[38;5;9msukisas\u001b[0m \u001b[38;5;10msukisaS\u001b[0m \u001b[38;5;9mSoSukoS\u001b[0m \u001b[38;5;9mSosukoS\u001b[0m \u001b[38;5;9mSasokaS\u001b[0m \u001b[38;5;10mSasokas\u001b[0m \u001b[38;5;9mSeSekaS\u001b[0m \u001b[38;5;10mseSekaS\u001b[0m \u001b[38;5;9msukesus\u001b[0m \u001b[38;5;9msukeSus\u001b[0m \u001b[38;5;9msuSekos\u001b[0m \u001b[38;5;10msuSekoS\u001b[0m \u001b[38;5;9mSokuSiS\u001b[0m \u001b[38;5;10mSokuSis\u001b[0m \u001b[38;5;9msisakus\u001b[0m \u001b[38;5;9msiSakus\u001b[0m \u001b[38;5;9mSikisaS\u001b[0m \u001b[38;5;10msikisaS\u001b[0m \u001b[38;5;9msisokus\u001b[0m \u001b[38;5;10mSisokus\u001b[0m \u001b[38;5;9mSakaSoS\u001b[0m \u001b[38;5;9mSakasoS\u001b[0m \u001b[38;5;9mseSokos\u001b[0m \u001b[38;5;10mseSokoS\u001b[0m \u001b[38;5;9mSekeSaS\u001b[0m \u001b[38;5;10mSekeSas\u001b[0m \u001b[38;5;9mSokuSoS\u001b[0m \u001b[38;5;9mSokusoS\u001b[0m \u001b[38;5;9mSakosaS\u001b[0m \u001b[38;5;10msakosaS\u001b[0m \u001b[38;5;9mSoSukiS\u001b[0m \u001b[38;5;10msoSukiS\u001b[0m \u001b[38;5;9msusekus\u001b[0m \u001b[38;5;9msuSekus\u001b[0m \u001b[38;5;9msukeSos\u001b[0m \u001b[38;5;10mSukeSos\u001b[0m \u001b[38;5;9msikosus\u001b[0m \u001b[38;5;10msikosuS\u001b[0m \u001b[38;5;9msikasus\u001b[0m \u001b[38;5;9msikaSus\u001b[0m \u001b[38;5;9mSisikaS\u001b[0m \u001b[38;5;10mSisikas\u001b[0m \u001b[38;5;9msusikas\u001b[0m \u001b[38;5;10mSusikas\u001b[0m \u001b[38;5;9mSaSakoS\u001b[0m \u001b[38;5;9mSasakoS\u001b[0m \u001b[38;5;10mSikuSis\u001b[0m \u001b[38;5;9msikuSis\u001b[0m \u001b[38;5;10msokasiS\u001b[0m \u001b[38;5;9msokasis\u001b[0m \u001b[38;5;9msoSakas\u001b[0m \u001b[38;5;9msosakas\u001b[0m \u001b[38;5;10mSesakis\u001b[0m \u001b[38;5;9mSesakiS\u001b[0m \u001b[38;5;10mSikoSis\u001b[0m \u001b[38;5;9mSikoSiS\u001b[0m \u001b[38;5;9mSusekiS\u001b[0m \u001b[38;5;9mSuSekiS\u001b[0m \u001b[38;5;10msokisoS\u001b[0m \u001b[38;5;9mSokisoS\u001b[0m \u001b[38;5;10mSesikos\u001b[0m \u001b[38;5;9msesikos\u001b[0m \u001b[38;5;9msakuSes\u001b[0m \u001b[38;5;9msakuses\u001b[0m \u001b[38;5;10msaSekeS\u001b[0m \u001b[38;5;9msaSekes\u001b[0m \u001b[38;5;10msaSikuS\u001b[0m \u001b[38;5;9mSaSikuS\u001b[0m \u001b[38;5;9mSekosaS\u001b[0m \u001b[38;5;9mSekoSaS\u001b[0m \u001b[38;5;10mSosikos\u001b[0m \u001b[38;5;9mSosikoS\u001b[0m \u001b[38;5;10mSosakis\u001b[0m \u001b[38;5;9msosakis\u001b[0m \u001b[38;5;9msaSukes\u001b[0m \u001b[38;5;9msasukes\u001b[0m \u001b[38;5;10msiSukiS\u001b[0m \u001b[38;5;9msiSukis\u001b[0m \u001b[38;5;10msiSokiS\u001b[0m \u001b[38;5;9mSiSokiS\u001b[0m \u001b[38;5;9mSesokaS\u001b[0m \u001b[38;5;9mSeSokaS\u001b[0m \u001b[38;5;10msekasiS\u001b[0m \u001b[38;5;9mSekasiS\u001b[0m \u001b[38;5;10msekisoS\u001b[0m \u001b[38;5;9msekisos\u001b[0m \u001b[38;5;9msokaSas\u001b[0m \u001b[38;5;9msokasas\u001b[0m \u001b[38;5;10mSakeSes\u001b[0m \u001b[38;5;9msakeSes\u001b[0m \u001b[38;5;10mSakiSus\u001b[0m \u001b[38;5;9mSakiSuS\u001b[0m \u001b[38;5;9mSukesiS\u001b[0m \u001b[38;5;9mSukeSiS\u001b[0m\n",
      "\n",
      "Evaluating g_fl\n",
      "What should this accept? (highlighted yellow)                       \u001b[38;5;11msekoSos\u001b[0m SekoSos \u001b[38;5;11msukisas\u001b[0m sukisaS \u001b[38;5;11mSoSukoS\u001b[0m \u001b[38;5;11mSosukoS\u001b[0m \u001b[38;5;11mSasokaS\u001b[0m Sasokas \u001b[38;5;11mSeSekaS\u001b[0m seSekaS \u001b[38;5;11msukesus\u001b[0m \u001b[38;5;11msukeSus\u001b[0m \u001b[38;5;11msuSekos\u001b[0m suSekoS \u001b[38;5;11mSokuSiS\u001b[0m SokuSis \u001b[38;5;11msisakus\u001b[0m \u001b[38;5;11msiSakus\u001b[0m \u001b[38;5;11mSikisaS\u001b[0m sikisaS \u001b[38;5;11msisokus\u001b[0m Sisokus \u001b[38;5;11mSakaSoS\u001b[0m \u001b[38;5;11mSakasoS\u001b[0m \u001b[38;5;11mseSokos\u001b[0m seSokoS \u001b[38;5;11mSekeSaS\u001b[0m SekeSas \u001b[38;5;11mSokuSoS\u001b[0m \u001b[38;5;11mSokusoS\u001b[0m \u001b[38;5;11mSakosaS\u001b[0m sakosaS \u001b[38;5;11mSoSukiS\u001b[0m soSukiS \u001b[38;5;11msusekus\u001b[0m \u001b[38;5;11msuSekus\u001b[0m \u001b[38;5;11msukeSos\u001b[0m SukeSos \u001b[38;5;11msikosus\u001b[0m sikosuS \u001b[38;5;11msikasus\u001b[0m \u001b[38;5;11msikaSus\u001b[0m \u001b[38;5;11mSisikaS\u001b[0m Sisikas \u001b[38;5;11msusikas\u001b[0m Susikas \u001b[38;5;11mSaSakoS\u001b[0m \u001b[38;5;11mSasakoS\u001b[0m SikuSis \u001b[38;5;11msikuSis\u001b[0m sokasiS \u001b[38;5;11msokasis\u001b[0m \u001b[38;5;11msoSakas\u001b[0m \u001b[38;5;11msosakas\u001b[0m Sesakis \u001b[38;5;11mSesakiS\u001b[0m SikoSis \u001b[38;5;11mSikoSiS\u001b[0m \u001b[38;5;11mSusekiS\u001b[0m \u001b[38;5;11mSuSekiS\u001b[0m sokisoS \u001b[38;5;11mSokisoS\u001b[0m Sesikos \u001b[38;5;11msesikos\u001b[0m \u001b[38;5;11msakuSes\u001b[0m \u001b[38;5;11msakuses\u001b[0m saSekeS \u001b[38;5;11msaSekes\u001b[0m saSikuS \u001b[38;5;11mSaSikuS\u001b[0m \u001b[38;5;11mSekosaS\u001b[0m \u001b[38;5;11mSekoSaS\u001b[0m Sosikos \u001b[38;5;11mSosikoS\u001b[0m Sosakis \u001b[38;5;11msosakis\u001b[0m \u001b[38;5;11msaSukes\u001b[0m \u001b[38;5;11msasukes\u001b[0m siSukiS \u001b[38;5;11msiSukis\u001b[0m siSokiS \u001b[38;5;11mSiSokiS\u001b[0m \u001b[38;5;11mSesokaS\u001b[0m \u001b[38;5;11mSeSokaS\u001b[0m sekasiS \u001b[38;5;11mSekasiS\u001b[0m sekisoS \u001b[38;5;11msekisos\u001b[0m \u001b[38;5;11msokaSas\u001b[0m \u001b[38;5;11msokasas\u001b[0m SakeSes \u001b[38;5;11msakeSes\u001b[0m SakiSus \u001b[38;5;11mSakiSuS\u001b[0m \u001b[38;5;11mSukesiS\u001b[0m \u001b[38;5;11mSukeSiS\u001b[0m\n",
      "What does this accept?   (highlighted magenta)                      sekoSos SekoSos sukisas sukisaS SoSukoS SosukoS SasokaS Sasokas SeSekaS seSekaS sukesus sukeSus suSekos suSekoS SokuSiS SokuSis sisakus siSakus SikisaS sikisaS sisokus Sisokus SakaSoS SakasoS seSokos seSokoS SekeSaS SekeSas SokuSoS SokusoS SakosaS sakosaS SoSukiS soSukiS susekus suSekus sukeSos SukeSos sikosus sikosuS sikasus sikaSus SisikaS Sisikas susikas Susikas SaSakoS SasakoS SikuSis sikuSis sokasiS sokasis soSakas sosakas Sesakis SesakiS SikoSis SikoSiS SusekiS SuSekiS sokisoS SokisoS Sesikos sesikos sakuSes sakuses saSekeS saSekes saSikuS SaSikuS SekosaS SekoSaS Sosikos SosikoS Sosakis sosakis saSukes sasukes siSukiS siSukis siSokiS SiSokiS SesokaS SeSokaS sekasiS SekasiS sekisoS sekisos sokaSas sokasas SakeSes sakeSes SakiSus SakiSuS SukesiS SukeSiS\n",
      "Does the grammar make the same judgement as the sh acceptor? 66.67% \u001b[38;5;10msekoSos\u001b[0m \u001b[38;5;10mSekoSos\u001b[0m \u001b[38;5;9msukisas\u001b[0m \u001b[38;5;10msukisaS\u001b[0m \u001b[38;5;9mSoSukoS\u001b[0m \u001b[38;5;10mSosukoS\u001b[0m \u001b[38;5;10mSasokaS\u001b[0m \u001b[38;5;10mSasokas\u001b[0m \u001b[38;5;9mSeSekaS\u001b[0m \u001b[38;5;10mseSekaS\u001b[0m \u001b[38;5;9msukesus\u001b[0m \u001b[38;5;10msukeSus\u001b[0m \u001b[38;5;10msuSekos\u001b[0m \u001b[38;5;10msuSekoS\u001b[0m \u001b[38;5;9mSokuSiS\u001b[0m \u001b[38;5;10mSokuSis\u001b[0m \u001b[38;5;9msisakus\u001b[0m \u001b[38;5;10msiSakus\u001b[0m \u001b[38;5;10mSikisaS\u001b[0m \u001b[38;5;10msikisaS\u001b[0m \u001b[38;5;9msisokus\u001b[0m \u001b[38;5;10mSisokus\u001b[0m \u001b[38;5;9mSakaSoS\u001b[0m \u001b[38;5;10mSakasoS\u001b[0m \u001b[38;5;10mseSokos\u001b[0m \u001b[38;5;10mseSokoS\u001b[0m \u001b[38;5;9mSekeSaS\u001b[0m \u001b[38;5;10mSekeSas\u001b[0m \u001b[38;5;9mSokuSoS\u001b[0m \u001b[38;5;10mSokusoS\u001b[0m \u001b[38;5;10mSakosaS\u001b[0m \u001b[38;5;10msakosaS\u001b[0m \u001b[38;5;9mSoSukiS\u001b[0m \u001b[38;5;10msoSukiS\u001b[0m \u001b[38;5;9msusekus\u001b[0m \u001b[38;5;10msuSekus\u001b[0m \u001b[38;5;10msukeSos\u001b[0m \u001b[38;5;10mSukeSos\u001b[0m \u001b[38;5;9msikosus\u001b[0m \u001b[38;5;10msikosuS\u001b[0m \u001b[38;5;9msikasus\u001b[0m \u001b[38;5;10msikaSus\u001b[0m \u001b[38;5;10mSisikaS\u001b[0m \u001b[38;5;10mSisikas\u001b[0m \u001b[38;5;9msusikas\u001b[0m \u001b[38;5;10mSusikas\u001b[0m \u001b[38;5;9mSaSakoS\u001b[0m \u001b[38;5;10mSasakoS\u001b[0m \u001b[38;5;10mSikuSis\u001b[0m \u001b[38;5;10msikuSis\u001b[0m \u001b[38;5;10msokasiS\u001b[0m \u001b[38;5;9msokasis\u001b[0m \u001b[38;5;10msoSakas\u001b[0m \u001b[38;5;9msosakas\u001b[0m \u001b[38;5;10mSesakis\u001b[0m \u001b[38;5;10mSesakiS\u001b[0m \u001b[38;5;10mSikoSis\u001b[0m \u001b[38;5;9mSikoSiS\u001b[0m \u001b[38;5;10mSusekiS\u001b[0m \u001b[38;5;9mSuSekiS\u001b[0m \u001b[38;5;10msokisoS\u001b[0m \u001b[38;5;10mSokisoS\u001b[0m \u001b[38;5;10mSesikos\u001b[0m \u001b[38;5;9msesikos\u001b[0m \u001b[38;5;10msakuSes\u001b[0m \u001b[38;5;9msakuses\u001b[0m \u001b[38;5;10msaSekeS\u001b[0m \u001b[38;5;10msaSekes\u001b[0m \u001b[38;5;10msaSikuS\u001b[0m \u001b[38;5;9mSaSikuS\u001b[0m \u001b[38;5;10mSekosaS\u001b[0m \u001b[38;5;9mSekoSaS\u001b[0m \u001b[38;5;10mSosikos\u001b[0m \u001b[38;5;10mSosikoS\u001b[0m \u001b[38;5;10mSosakis\u001b[0m \u001b[38;5;9msosakis\u001b[0m \u001b[38;5;10msaSukes\u001b[0m \u001b[38;5;9msasukes\u001b[0m \u001b[38;5;10msiSukiS\u001b[0m \u001b[38;5;10msiSukis\u001b[0m \u001b[38;5;10msiSokiS\u001b[0m \u001b[38;5;9mSiSokiS\u001b[0m \u001b[38;5;10mSesokaS\u001b[0m \u001b[38;5;9mSeSokaS\u001b[0m \u001b[38;5;10msekasiS\u001b[0m \u001b[38;5;10mSekasiS\u001b[0m \u001b[38;5;10msekisoS\u001b[0m \u001b[38;5;9msekisos\u001b[0m \u001b[38;5;10msokaSas\u001b[0m \u001b[38;5;9msokasas\u001b[0m \u001b[38;5;10mSakeSes\u001b[0m \u001b[38;5;10msakeSes\u001b[0m \u001b[38;5;10mSakiSus\u001b[0m \u001b[38;5;9mSakiSuS\u001b[0m \u001b[38;5;10mSukesiS\u001b[0m \u001b[38;5;9mSukeSiS\u001b[0m\n",
      "Does the grammar make the same judgement as the fl acceptor? 33.33% \u001b[38;5;9msekoSos\u001b[0m \u001b[38;5;10mSekoSos\u001b[0m \u001b[38;5;9msukisas\u001b[0m \u001b[38;5;10msukisaS\u001b[0m \u001b[38;5;9mSoSukoS\u001b[0m \u001b[38;5;9mSosukoS\u001b[0m \u001b[38;5;9mSasokaS\u001b[0m \u001b[38;5;10mSasokas\u001b[0m \u001b[38;5;9mSeSekaS\u001b[0m \u001b[38;5;10mseSekaS\u001b[0m \u001b[38;5;9msukesus\u001b[0m \u001b[38;5;9msukeSus\u001b[0m \u001b[38;5;9msuSekos\u001b[0m \u001b[38;5;10msuSekoS\u001b[0m \u001b[38;5;9mSokuSiS\u001b[0m \u001b[38;5;10mSokuSis\u001b[0m \u001b[38;5;9msisakus\u001b[0m \u001b[38;5;9msiSakus\u001b[0m \u001b[38;5;9mSikisaS\u001b[0m \u001b[38;5;10msikisaS\u001b[0m \u001b[38;5;9msisokus\u001b[0m \u001b[38;5;10mSisokus\u001b[0m \u001b[38;5;9mSakaSoS\u001b[0m \u001b[38;5;9mSakasoS\u001b[0m \u001b[38;5;9mseSokos\u001b[0m \u001b[38;5;10mseSokoS\u001b[0m \u001b[38;5;9mSekeSaS\u001b[0m \u001b[38;5;10mSekeSas\u001b[0m \u001b[38;5;9mSokuSoS\u001b[0m \u001b[38;5;9mSokusoS\u001b[0m \u001b[38;5;9mSakosaS\u001b[0m \u001b[38;5;10msakosaS\u001b[0m \u001b[38;5;9mSoSukiS\u001b[0m \u001b[38;5;10msoSukiS\u001b[0m \u001b[38;5;9msusekus\u001b[0m \u001b[38;5;9msuSekus\u001b[0m \u001b[38;5;9msukeSos\u001b[0m \u001b[38;5;10mSukeSos\u001b[0m \u001b[38;5;9msikosus\u001b[0m \u001b[38;5;10msikosuS\u001b[0m \u001b[38;5;9msikasus\u001b[0m \u001b[38;5;9msikaSus\u001b[0m \u001b[38;5;9mSisikaS\u001b[0m \u001b[38;5;10mSisikas\u001b[0m \u001b[38;5;9msusikas\u001b[0m \u001b[38;5;10mSusikas\u001b[0m \u001b[38;5;9mSaSakoS\u001b[0m \u001b[38;5;9mSasakoS\u001b[0m \u001b[38;5;10mSikuSis\u001b[0m \u001b[38;5;9msikuSis\u001b[0m \u001b[38;5;10msokasiS\u001b[0m \u001b[38;5;9msokasis\u001b[0m \u001b[38;5;9msoSakas\u001b[0m \u001b[38;5;9msosakas\u001b[0m \u001b[38;5;10mSesakis\u001b[0m \u001b[38;5;9mSesakiS\u001b[0m \u001b[38;5;10mSikoSis\u001b[0m \u001b[38;5;9mSikoSiS\u001b[0m \u001b[38;5;9mSusekiS\u001b[0m \u001b[38;5;9mSuSekiS\u001b[0m \u001b[38;5;10msokisoS\u001b[0m \u001b[38;5;9mSokisoS\u001b[0m \u001b[38;5;10mSesikos\u001b[0m \u001b[38;5;9msesikos\u001b[0m \u001b[38;5;9msakuSes\u001b[0m \u001b[38;5;9msakuses\u001b[0m \u001b[38;5;10msaSekeS\u001b[0m \u001b[38;5;9msaSekes\u001b[0m \u001b[38;5;10msaSikuS\u001b[0m \u001b[38;5;9mSaSikuS\u001b[0m \u001b[38;5;9mSekosaS\u001b[0m \u001b[38;5;9mSekoSaS\u001b[0m \u001b[38;5;10mSosikos\u001b[0m \u001b[38;5;9mSosikoS\u001b[0m \u001b[38;5;10mSosakis\u001b[0m \u001b[38;5;9msosakis\u001b[0m \u001b[38;5;9msaSukes\u001b[0m \u001b[38;5;9msasukes\u001b[0m \u001b[38;5;10msiSukiS\u001b[0m \u001b[38;5;9msiSukis\u001b[0m \u001b[38;5;10msiSokiS\u001b[0m \u001b[38;5;9mSiSokiS\u001b[0m \u001b[38;5;9mSesokaS\u001b[0m \u001b[38;5;9mSeSokaS\u001b[0m \u001b[38;5;10msekasiS\u001b[0m \u001b[38;5;9mSekasiS\u001b[0m \u001b[38;5;10msekisoS\u001b[0m \u001b[38;5;9msekisos\u001b[0m \u001b[38;5;9msokaSas\u001b[0m \u001b[38;5;9msokasas\u001b[0m \u001b[38;5;10mSakeSes\u001b[0m \u001b[38;5;9msakeSes\u001b[0m \u001b[38;5;10mSakiSus\u001b[0m \u001b[38;5;9mSakiSuS\u001b[0m \u001b[38;5;9mSukesiS\u001b[0m \u001b[38;5;9mSukeSiS\u001b[0m\n",
      "\n",
      "Evaluating g_ifl\n",
      "What should this accept? (highlighted yellow)                       \u001b[38;5;11msekoSos\u001b[0m SekoSos \u001b[38;5;11msukisas\u001b[0m sukisaS \u001b[38;5;11mSoSukoS\u001b[0m \u001b[38;5;11mSosukoS\u001b[0m \u001b[38;5;11mSasokaS\u001b[0m Sasokas \u001b[38;5;11mSeSekaS\u001b[0m seSekaS \u001b[38;5;11msukesus\u001b[0m \u001b[38;5;11msukeSus\u001b[0m \u001b[38;5;11msuSekos\u001b[0m suSekoS \u001b[38;5;11mSokuSiS\u001b[0m SokuSis \u001b[38;5;11msisakus\u001b[0m \u001b[38;5;11msiSakus\u001b[0m \u001b[38;5;11mSikisaS\u001b[0m sikisaS \u001b[38;5;11msisokus\u001b[0m Sisokus \u001b[38;5;11mSakaSoS\u001b[0m \u001b[38;5;11mSakasoS\u001b[0m \u001b[38;5;11mseSokos\u001b[0m seSokoS \u001b[38;5;11mSekeSaS\u001b[0m SekeSas \u001b[38;5;11mSokuSoS\u001b[0m \u001b[38;5;11mSokusoS\u001b[0m \u001b[38;5;11mSakosaS\u001b[0m sakosaS \u001b[38;5;11mSoSukiS\u001b[0m soSukiS \u001b[38;5;11msusekus\u001b[0m \u001b[38;5;11msuSekus\u001b[0m \u001b[38;5;11msukeSos\u001b[0m SukeSos \u001b[38;5;11msikosus\u001b[0m sikosuS \u001b[38;5;11msikasus\u001b[0m \u001b[38;5;11msikaSus\u001b[0m \u001b[38;5;11mSisikaS\u001b[0m Sisikas \u001b[38;5;11msusikas\u001b[0m Susikas \u001b[38;5;11mSaSakoS\u001b[0m \u001b[38;5;11mSasakoS\u001b[0m SikuSis \u001b[38;5;11msikuSis\u001b[0m sokasiS \u001b[38;5;11msokasis\u001b[0m \u001b[38;5;11msoSakas\u001b[0m \u001b[38;5;11msosakas\u001b[0m Sesakis \u001b[38;5;11mSesakiS\u001b[0m SikoSis \u001b[38;5;11mSikoSiS\u001b[0m \u001b[38;5;11mSusekiS\u001b[0m \u001b[38;5;11mSuSekiS\u001b[0m sokisoS \u001b[38;5;11mSokisoS\u001b[0m Sesikos \u001b[38;5;11msesikos\u001b[0m \u001b[38;5;11msakuSes\u001b[0m \u001b[38;5;11msakuses\u001b[0m saSekeS \u001b[38;5;11msaSekes\u001b[0m saSikuS \u001b[38;5;11mSaSikuS\u001b[0m \u001b[38;5;11mSekosaS\u001b[0m \u001b[38;5;11mSekoSaS\u001b[0m Sosikos \u001b[38;5;11mSosikoS\u001b[0m Sosakis \u001b[38;5;11msosakis\u001b[0m \u001b[38;5;11msaSukes\u001b[0m \u001b[38;5;11msasukes\u001b[0m siSukiS \u001b[38;5;11msiSukis\u001b[0m siSokiS \u001b[38;5;11mSiSokiS\u001b[0m \u001b[38;5;11mSesokaS\u001b[0m \u001b[38;5;11mSeSokaS\u001b[0m sekasiS \u001b[38;5;11mSekasiS\u001b[0m sekisoS \u001b[38;5;11msekisos\u001b[0m \u001b[38;5;11msokaSas\u001b[0m \u001b[38;5;11msokasas\u001b[0m SakeSes \u001b[38;5;11msakeSes\u001b[0m SakiSus \u001b[38;5;11mSakiSuS\u001b[0m \u001b[38;5;11mSukesiS\u001b[0m \u001b[38;5;11mSukeSiS\u001b[0m\n",
      "What does this accept?   (highlighted magenta)                      sekoSos SekoSos sukisas sukisaS SoSukoS SosukoS SasokaS Sasokas SeSekaS seSekaS sukesus sukeSus suSekos suSekoS SokuSiS SokuSis sisakus siSakus SikisaS sikisaS sisokus Sisokus SakaSoS SakasoS seSokos seSokoS SekeSaS SekeSas SokuSoS SokusoS SakosaS sakosaS SoSukiS soSukiS susekus suSekus sukeSos SukeSos sikosus sikosuS sikasus sikaSus SisikaS Sisikas susikas Susikas SaSakoS SasakoS SikuSis sikuSis sokasiS sokasis soSakas sosakas Sesakis SesakiS SikoSis SikoSiS SusekiS SuSekiS sokisoS SokisoS Sesikos sesikos sakuSes sakuses saSekeS saSekes saSikuS SaSikuS SekosaS SekoSaS Sosikos SosikoS Sosakis sosakis saSukes sasukes siSukiS siSukis siSokiS SiSokiS SesokaS SeSokaS sekasiS SekasiS sekisoS sekisos sokaSas sokasas SakeSes sakeSes SakiSus SakiSuS SukesiS SukeSiS\n",
      "Does the grammar make the same judgement as the sh acceptor? 66.67% \u001b[38;5;10msekoSos\u001b[0m \u001b[38;5;10mSekoSos\u001b[0m \u001b[38;5;9msukisas\u001b[0m \u001b[38;5;10msukisaS\u001b[0m \u001b[38;5;9mSoSukoS\u001b[0m \u001b[38;5;10mSosukoS\u001b[0m \u001b[38;5;10mSasokaS\u001b[0m \u001b[38;5;10mSasokas\u001b[0m \u001b[38;5;9mSeSekaS\u001b[0m \u001b[38;5;10mseSekaS\u001b[0m \u001b[38;5;9msukesus\u001b[0m \u001b[38;5;10msukeSus\u001b[0m \u001b[38;5;10msuSekos\u001b[0m \u001b[38;5;10msuSekoS\u001b[0m \u001b[38;5;9mSokuSiS\u001b[0m \u001b[38;5;10mSokuSis\u001b[0m \u001b[38;5;9msisakus\u001b[0m \u001b[38;5;10msiSakus\u001b[0m \u001b[38;5;10mSikisaS\u001b[0m \u001b[38;5;10msikisaS\u001b[0m \u001b[38;5;9msisokus\u001b[0m \u001b[38;5;10mSisokus\u001b[0m \u001b[38;5;9mSakaSoS\u001b[0m \u001b[38;5;10mSakasoS\u001b[0m \u001b[38;5;10mseSokos\u001b[0m \u001b[38;5;10mseSokoS\u001b[0m \u001b[38;5;9mSekeSaS\u001b[0m \u001b[38;5;10mSekeSas\u001b[0m \u001b[38;5;9mSokuSoS\u001b[0m \u001b[38;5;10mSokusoS\u001b[0m \u001b[38;5;10mSakosaS\u001b[0m \u001b[38;5;10msakosaS\u001b[0m \u001b[38;5;9mSoSukiS\u001b[0m \u001b[38;5;10msoSukiS\u001b[0m \u001b[38;5;9msusekus\u001b[0m \u001b[38;5;10msuSekus\u001b[0m \u001b[38;5;10msukeSos\u001b[0m \u001b[38;5;10mSukeSos\u001b[0m \u001b[38;5;9msikosus\u001b[0m \u001b[38;5;10msikosuS\u001b[0m \u001b[38;5;9msikasus\u001b[0m \u001b[38;5;10msikaSus\u001b[0m \u001b[38;5;10mSisikaS\u001b[0m \u001b[38;5;10mSisikas\u001b[0m \u001b[38;5;9msusikas\u001b[0m \u001b[38;5;10mSusikas\u001b[0m \u001b[38;5;9mSaSakoS\u001b[0m \u001b[38;5;10mSasakoS\u001b[0m \u001b[38;5;10mSikuSis\u001b[0m \u001b[38;5;10msikuSis\u001b[0m \u001b[38;5;10msokasiS\u001b[0m \u001b[38;5;9msokasis\u001b[0m \u001b[38;5;10msoSakas\u001b[0m \u001b[38;5;9msosakas\u001b[0m \u001b[38;5;10mSesakis\u001b[0m \u001b[38;5;10mSesakiS\u001b[0m \u001b[38;5;10mSikoSis\u001b[0m \u001b[38;5;9mSikoSiS\u001b[0m \u001b[38;5;10mSusekiS\u001b[0m \u001b[38;5;9mSuSekiS\u001b[0m \u001b[38;5;10msokisoS\u001b[0m \u001b[38;5;10mSokisoS\u001b[0m \u001b[38;5;10mSesikos\u001b[0m \u001b[38;5;9msesikos\u001b[0m \u001b[38;5;10msakuSes\u001b[0m \u001b[38;5;9msakuses\u001b[0m \u001b[38;5;10msaSekeS\u001b[0m \u001b[38;5;10msaSekes\u001b[0m \u001b[38;5;10msaSikuS\u001b[0m \u001b[38;5;9mSaSikuS\u001b[0m \u001b[38;5;10mSekosaS\u001b[0m \u001b[38;5;9mSekoSaS\u001b[0m \u001b[38;5;10mSosikos\u001b[0m \u001b[38;5;10mSosikoS\u001b[0m \u001b[38;5;10mSosakis\u001b[0m \u001b[38;5;9msosakis\u001b[0m \u001b[38;5;10msaSukes\u001b[0m \u001b[38;5;9msasukes\u001b[0m \u001b[38;5;10msiSukiS\u001b[0m \u001b[38;5;10msiSukis\u001b[0m \u001b[38;5;10msiSokiS\u001b[0m \u001b[38;5;9mSiSokiS\u001b[0m \u001b[38;5;10mSesokaS\u001b[0m \u001b[38;5;9mSeSokaS\u001b[0m \u001b[38;5;10msekasiS\u001b[0m \u001b[38;5;10mSekasiS\u001b[0m \u001b[38;5;10msekisoS\u001b[0m \u001b[38;5;9msekisos\u001b[0m \u001b[38;5;10msokaSas\u001b[0m \u001b[38;5;9msokasas\u001b[0m \u001b[38;5;10mSakeSes\u001b[0m \u001b[38;5;10msakeSes\u001b[0m \u001b[38;5;10mSakiSus\u001b[0m \u001b[38;5;9mSakiSuS\u001b[0m \u001b[38;5;10mSukesiS\u001b[0m \u001b[38;5;9mSukeSiS\u001b[0m\n",
      "Does the grammar make the same judgement as the fl acceptor? 33.33% \u001b[38;5;9msekoSos\u001b[0m \u001b[38;5;10mSekoSos\u001b[0m \u001b[38;5;9msukisas\u001b[0m \u001b[38;5;10msukisaS\u001b[0m \u001b[38;5;9mSoSukoS\u001b[0m \u001b[38;5;9mSosukoS\u001b[0m \u001b[38;5;9mSasokaS\u001b[0m \u001b[38;5;10mSasokas\u001b[0m \u001b[38;5;9mSeSekaS\u001b[0m \u001b[38;5;10mseSekaS\u001b[0m \u001b[38;5;9msukesus\u001b[0m \u001b[38;5;9msukeSus\u001b[0m \u001b[38;5;9msuSekos\u001b[0m \u001b[38;5;10msuSekoS\u001b[0m \u001b[38;5;9mSokuSiS\u001b[0m \u001b[38;5;10mSokuSis\u001b[0m \u001b[38;5;9msisakus\u001b[0m \u001b[38;5;9msiSakus\u001b[0m \u001b[38;5;9mSikisaS\u001b[0m \u001b[38;5;10msikisaS\u001b[0m \u001b[38;5;9msisokus\u001b[0m \u001b[38;5;10mSisokus\u001b[0m \u001b[38;5;9mSakaSoS\u001b[0m \u001b[38;5;9mSakasoS\u001b[0m \u001b[38;5;9mseSokos\u001b[0m \u001b[38;5;10mseSokoS\u001b[0m \u001b[38;5;9mSekeSaS\u001b[0m \u001b[38;5;10mSekeSas\u001b[0m \u001b[38;5;9mSokuSoS\u001b[0m \u001b[38;5;9mSokusoS\u001b[0m \u001b[38;5;9mSakosaS\u001b[0m \u001b[38;5;10msakosaS\u001b[0m \u001b[38;5;9mSoSukiS\u001b[0m \u001b[38;5;10msoSukiS\u001b[0m \u001b[38;5;9msusekus\u001b[0m \u001b[38;5;9msuSekus\u001b[0m \u001b[38;5;9msukeSos\u001b[0m \u001b[38;5;10mSukeSos\u001b[0m \u001b[38;5;9msikosus\u001b[0m \u001b[38;5;10msikosuS\u001b[0m \u001b[38;5;9msikasus\u001b[0m \u001b[38;5;9msikaSus\u001b[0m \u001b[38;5;9mSisikaS\u001b[0m \u001b[38;5;10mSisikas\u001b[0m \u001b[38;5;9msusikas\u001b[0m \u001b[38;5;10mSusikas\u001b[0m \u001b[38;5;9mSaSakoS\u001b[0m \u001b[38;5;9mSasakoS\u001b[0m \u001b[38;5;10mSikuSis\u001b[0m \u001b[38;5;9msikuSis\u001b[0m \u001b[38;5;10msokasiS\u001b[0m \u001b[38;5;9msokasis\u001b[0m \u001b[38;5;9msoSakas\u001b[0m \u001b[38;5;9msosakas\u001b[0m \u001b[38;5;10mSesakis\u001b[0m \u001b[38;5;9mSesakiS\u001b[0m \u001b[38;5;10mSikoSis\u001b[0m \u001b[38;5;9mSikoSiS\u001b[0m \u001b[38;5;9mSusekiS\u001b[0m \u001b[38;5;9mSuSekiS\u001b[0m \u001b[38;5;10msokisoS\u001b[0m \u001b[38;5;9mSokisoS\u001b[0m \u001b[38;5;10mSesikos\u001b[0m \u001b[38;5;9msesikos\u001b[0m \u001b[38;5;9msakuSes\u001b[0m \u001b[38;5;9msakuses\u001b[0m \u001b[38;5;10msaSekeS\u001b[0m \u001b[38;5;9msaSekes\u001b[0m \u001b[38;5;10msaSikuS\u001b[0m \u001b[38;5;9mSaSikuS\u001b[0m \u001b[38;5;9mSekosaS\u001b[0m \u001b[38;5;9mSekoSaS\u001b[0m \u001b[38;5;10mSosikos\u001b[0m \u001b[38;5;9mSosikoS\u001b[0m \u001b[38;5;10mSosakis\u001b[0m \u001b[38;5;9msosakis\u001b[0m \u001b[38;5;9msaSukes\u001b[0m \u001b[38;5;9msasukes\u001b[0m \u001b[38;5;10msiSukiS\u001b[0m \u001b[38;5;9msiSukis\u001b[0m \u001b[38;5;10msiSokiS\u001b[0m \u001b[38;5;9mSiSokiS\u001b[0m \u001b[38;5;9mSesokaS\u001b[0m \u001b[38;5;9mSeSokaS\u001b[0m \u001b[38;5;10msekasiS\u001b[0m \u001b[38;5;9mSekasiS\u001b[0m \u001b[38;5;10msekisoS\u001b[0m \u001b[38;5;9msekisos\u001b[0m \u001b[38;5;9msokaSas\u001b[0m \u001b[38;5;9msokasas\u001b[0m \u001b[38;5;10mSakeSes\u001b[0m \u001b[38;5;9msakeSes\u001b[0m \u001b[38;5;10mSakiSus\u001b[0m \u001b[38;5;9mSakiSuS\u001b[0m \u001b[38;5;9mSukesiS\u001b[0m \u001b[38;5;9mSukeSiS\u001b[0m\n"
     ]
    }
   ],
   "source": [
    "#test\n",
    "print('Evaluating g_sh')\n",
    "print(f'What should this accept? (highlighted yellow)                       {\" \".join([cz(\"yellow\", w) if sh_acceptor(w) else w for w in test])}')\n",
    "print(f'What does this accept?   (highlighted magenta)                      {\" \".join([cz(\"magenta\", w) if g_sh.scan(w) else w for w in test])}')\n",
    "g_sh_match_sh = [w for w in test if sh_acceptor(w) == g_sh.scan(w)]\n",
    "g_sh_match_fl = [w for w in test if fl_acceptor(w) == g_sh.scan(w)]\n",
    "print(f\"Does the grammar make the same judgement as the sh acceptor? {format(len(g_sh_match_sh)/len(test)*100, '.2f')}% {' '.join(cz('green' if w in g_sh_match_sh else 'red', w) for w in test)}\")\n",
    "print(f\"Does the grammar make the same judgement as the fl acceptor? {format(len(g_sh_match_fl)/len(test)*100, '.2f')}% {' '.join(cz('green' if w in g_sh_match_fl else 'red', w) for w in test)}\")\n",
    "print()\n",
    "\n",
    "print('Evaluating g_fl')\n",
    "print(f'What should this accept? (highlighted yellow)                       {\" \".join([cz(\"yellow\", w) if fl_acceptor(w) else w for w in test])}')\n",
    "print(f'What does this accept?   (highlighted magenta)                      {\" \".join([cz(\"magenta\", w) if g_fl.scan(w) else w for w in test])}')\n",
    "g_fl_match_sh = [w for w in test if sh_acceptor(w) == g_fl.scan(w)]\n",
    "g_fl_match_fl = [w for w in test if fl_acceptor(w) == g_fl.scan(w)]\n",
    "print(f\"Does the grammar make the same judgement as the sh acceptor? {format(len(g_fl_match_sh)/len(test)*100, '.2f')}% {' '.join(cz('green' if w in g_fl_match_sh else 'red', w) for w in test)}\")\n",
    "print(f\"Does the grammar make the same judgement as the fl acceptor? {format(len(g_fl_match_fl)/len(test)*100, '.2f')}% {' '.join(cz('green' if w in g_fl_match_fl else 'red', w) for w in test)}\")\n",
    "print()\n",
    "\n",
    "print('Evaluating g_ifl')\n",
    "print(f'What should this accept? (highlighted yellow)                       {\" \".join([cz(\"yellow\", w) if fl_acceptor(w) else w for w in test])}')\n",
    "print(f'What does this accept?   (highlighted magenta)                      {\" \".join([cz(\"magenta\", w) if g_ifl.scan(w) else w for w in test])}')\n",
    "g_ifl_match_sh = [w for w in test if sh_acceptor(w) == g_ifl.scan(w)]\n",
    "g_ifl_match_fl = [w for w in test if fl_acceptor(w) == g_ifl.scan(w)]\n",
    "print(f\"Does the grammar make the same judgement as the sh acceptor? {format(len(g_ifl_match_sh)/len(test)*100, '.2f')}% {' '.join(cz('green' if w in g_ifl_match_sh else 'red', w) for w in test)}\")\n",
    "print(f\"Does the grammar make the same judgement as the fl acceptor? {format(len(g_ifl_match_fl)/len(test)*100, '.2f')}% {' '.join(cz('green' if w in g_ifl_match_fl else 'red', w) for w in test)}\")"
   ]
  },
  {
   "attachments": {},
   "cell_type": "markdown",
   "metadata": {},
   "source": [
    "# Evaluation Pipeline 2"
   ]
  },
  {
   "cell_type": "code",
   "execution_count": 33,
   "metadata": {},
   "outputs": [
    {
     "name": "stdout",
     "output_type": "stream",
     "text": [
      "We have generated ourselves into a corner with the word ('>>', '>s', 'su', 'uk', 'ka', 'as', 'su', 'us', 'su') please check your grammar.\n",
      "We have generated ourselves into a corner with the word ('>>', '>s', 'si', 'is', 'se', 'ek', 'ko', 'os', 'se') please check your grammar.\n",
      "We have generated ourselves into a corner with the word ('>>', '>s', 'sa', 'ak', 'ke', 'eS') please check your grammar.\n",
      "We have generated ourselves into a corner with the word ('>>', '>s', 'se', 'ek', 'ko', 'os', 'se', 'eS') please check your grammar.\n",
      "We have generated ourselves into a corner with the word ('>>', '>s', 'sa', 'ak', 'ke', 'eS') please check your grammar.\n",
      "We have generated ourselves into a corner with the word ('>>', '>s', 'su', 'uk', 'ko', 'oS') please check your grammar.\n"
     ]
    }
   ],
   "source": [
    "#generating samples:\n",
    "sample_sh = g_sh.generate_sample(n=40)\n",
    "sample_fl = g_fl.generate_sample(n=40)\n",
    "sample_ifl = g_ifl.generate_sample(n=40)"
   ]
  },
  {
   "cell_type": "code",
   "execution_count": 37,
   "metadata": {},
   "outputs": [
    {
     "name": "stdout",
     "output_type": "stream",
     "text": [
      "Evaluating sample_sh\n",
      "Does this sample exhibit sibilant harmony? True\n",
      "Does this sample exhibit first-last harmony? True\n",
      "\n",
      "Evaluating sample_fl\n",
      "Does this sample exhibit sibilant harmony? False\n",
      "Does this sample exhibit first-last harmony? True\n",
      "\n",
      "Evaluating sample_ifl\n",
      "Does this sample exhibit sibilant harmony? False\n",
      "Does this sample exhibit first-last harmony? True\n"
     ]
    }
   ],
   "source": [
    "#Evaluating samples:\n",
    "print('Evaluating sample_sh')\n",
    "print(f\"Does this sample exhibit sibilant harmony? {all(sh_acceptor(w) for w in sample_sh)}\")\n",
    "print(f\"Does this sample exhibit first-last harmony? {all(fl_acceptor(w) for w in sample_sh)}\")\n",
    "print()\n",
    "\n",
    "print('Evaluating sample_fl')\n",
    "print(f\"Does this sample exhibit sibilant harmony? {all(sh_acceptor(w) for w in sample_fl)}\")\n",
    "print(f\"Does this sample exhibit first-last harmony? {all(fl_acceptor(w) for w in sample_fl)}\")\n",
    "print()\n",
    "\n",
    "print('Evaluating sample_ifl')\n",
    "print(f\"Does this sample exhibit sibilant harmony? {all(sh_acceptor(w) for w in sample_ifl)}\")\n",
    "print(f\"Does this sample exhibit first-last harmony? {all(fl_acceptor(w) for w in sample_ifl)}\")"
   ]
  }
 ],
 "metadata": {
  "kernelspec": {
   "display_name": "Python 3",
   "language": "python",
   "name": "python3"
  },
  "language_info": {
   "codemirror_mode": {
    "name": "ipython",
    "version": 3
   },
   "file_extension": ".py",
   "mimetype": "text/x-python",
   "name": "python",
   "nbconvert_exporter": "python",
   "pygments_lexer": "ipython3",
   "version": "3.10.11"
  },
  "orig_nbformat": 4
 },
 "nbformat": 4,
 "nbformat_minor": 2
}
