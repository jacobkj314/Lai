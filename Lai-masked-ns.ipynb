{
 "cells": [
  {
   "cell_type": "code",
   "execution_count": 4,
   "metadata": {},
   "outputs": [
    {
     "name": "stdout",
     "output_type": "stream",
     "text": [
      "c:\\C\\!2023Spring\\UCUR\\SCIL\\codebase\\local_sigmapie\\code\n",
      "c:\\C\\!2023Spring\\UCUR\\SCIL\\codebase\n"
     ]
    }
   ],
   "source": [
    "%cd local_sigmapie/code/\n",
    "from main import *\n",
    "%cd ../.."
   ]
  },
  {
   "attachments": {},
   "cell_type": "markdown",
   "metadata": {},
   "source": [
    "# Setup"
   ]
  },
  {
   "cell_type": "code",
   "execution_count": 5,
   "metadata": {},
   "outputs": [],
   "source": [
    "# Setting up the training sets\n",
    "\n",
    "sh = [\n",
    "'SaSekuS', 'sasokos', 'SakuSuS', 'sakesas',\n",
    "'SeSukuS', 'sesukos', 'SekeSuS', 'sekoses',\n",
    "'SiSokeS', 'sisekos', 'SikiSoS', 'sikisis',\n",
    "'SoSokeS', 'sosakos', 'SokaSeS', 'sokusas',\n",
    "'SuSakiS', 'susukos', 'SukoSoS', 'sukasus',\n",
    "'SaSokuS', 'sasakus', 'SakuSiS', 'sakisos',\n",
    "'SeSokiS', 'sesukis', 'SekeSoS', 'sekeses',\n",
    "'SiSukoS', 'sisokos', 'SikeSaS', 'sikasos',\n",
    "'SoSokuS', 'sosikas', 'SokeSiS', 'sokosis',\n",
    "'SuSakeS', 'susokis', 'SukoSeS', 'sukesas',\n",
    "]\n",
    "\n",
    "fl = [\n",
    "'SasokuS', 'saSakus', 'SaSekuS', 'sasokos',\n",
    "'SesokiS', 'seSukis', 'SeSukuS', 'sesukos',\n",
    "'SisukoS', 'siSokos', 'SiSokeS', 'sisekos',\n",
    "'SosokuS', 'soSikas', 'SoSokeS', 'sosakos',\n",
    "'SusakeS', 'suSokis', 'SuSakiS', 'susukos',\n",
    "'SakusiS', 'sakiSos', 'SakuSuS', 'sakesas',\n",
    "'SekesoS', 'sekeSes', 'SekeSuS', 'sekoses',\n",
    "'SikesaS', 'sikaSos', 'SikiSoS', 'sikisis',\n",
    "'SokesiS', 'sokoSis', 'SokaSeS', 'sokusas',\n",
    "'SukoseS', 'sukeSas', 'SukoSoS', 'sukasus'\n",
    "]\n",
    "\n",
    "ifl = [\n",
    "'SasokuS', 'saSakus', 'SakusiS', 'sakiSos',\n",
    "'SesokiS', 'seSukis', 'SekesoS', 'sekeSes',\n",
    "'SisukoS', 'siSokos', 'SikesaS', 'sikaSos',\n",
    "'SosokuS', 'soSikas', 'SokesiS', 'sokoSis',\n",
    "'SusakeS', 'suSokis', 'SukoseS', 'sukeSas',\n",
    "'SasekuS', 'saSokos', 'SakusuS', 'sakeSas',\n",
    "'SesukuS', 'seSukos', 'SekesuS', 'sekoSes',\n",
    "'SisokeS', 'siSekos', 'SikisoS', 'sikiSis',\n",
    "'SosokeS', 'soSakos', 'SokaseS', 'sokuSas',\n",
    "'SusakiS', 'suSukos', 'SukosoS', 'sukaSus'\n",
    "]"
   ]
  },
  {
   "cell_type": "code",
   "execution_count": 6,
   "metadata": {},
   "outputs": [],
   "source": [
    "#mask non-sibilants as x\n",
    "import re\n",
    "sh = [re.sub(r'[^sS]', 'x', w) for w in sh]\n",
    "fl = [re.sub(r'[^sS]', 'x', w) for w in fl]\n",
    "ifl = [re.sub(r'[^sS]', 'x', w) for w in ifl]"
   ]
  },
  {
   "cell_type": "code",
   "execution_count": 7,
   "metadata": {},
   "outputs": [],
   "source": [
    "#learning the grammars\n",
    "g_sh = MITSL(polar='n')\n",
    "g_sh.data = sh\n",
    "g_sh.extract_alphabet()\n",
    "g_sh.learn()\n",
    "\n",
    "g_fl = MITSL(polar='n')\n",
    "g_fl.data = fl\n",
    "g_fl.extract_alphabet()\n",
    "g_fl.learn()\n",
    "\n",
    "g_ifl = MITSL(polar='n')\n",
    "g_ifl.data = ifl\n",
    "g_ifl.extract_alphabet()\n",
    "g_ifl.learn()"
   ]
  },
  {
   "cell_type": "code",
   "execution_count": 8,
   "metadata": {},
   "outputs": [],
   "source": [
    "#setting up acceptors\n",
    "sh_acceptor = lambda w : len(set(filter(lambda c : c in {'s','S'}, w))) <= 1\n",
    "fl_acceptor = lambda w : w == '' or w[0] == w[-1]"
   ]
  },
  {
   "attachments": {},
   "cell_type": "markdown",
   "metadata": {},
   "source": [
    "# Evaluation Pipeline 1"
   ]
  },
  {
   "cell_type": "code",
   "execution_count": 9,
   "metadata": {},
   "outputs": [],
   "source": [
    "#setting up test set\n",
    "test = [\n",
    "'sekoSos', 'SekoSos', 'sukisas', 'sukisaS', 'SoSukoS', 'SosukoS',\n",
    "'SasokaS', 'Sasokas', 'SeSekaS', 'seSekaS', 'sukesus', 'sukeSus',\n",
    "'suSekos', 'suSekoS', 'SokuSiS', 'SokuSis', 'sisakus', 'siSakus',\n",
    "'SikisaS', 'sikisaS', 'sisokus', 'Sisokus', 'SakaSoS', 'SakasoS',\n",
    "'seSokos', 'seSokoS', 'SekeSaS', 'SekeSas', 'SokuSoS', 'SokusoS',\n",
    "'SakosaS', 'sakosaS', 'SoSukiS', 'soSukiS', 'susekus', 'suSekus',\n",
    "'sukeSos', 'SukeSos', 'sikosus', 'sikosuS', 'sikasus', 'sikaSus',\n",
    "'SisikaS', 'Sisikas', 'susikas', 'Susikas', 'SaSakoS', 'SasakoS',\n",
    "'SikuSis', 'sikuSis', 'sokasiS', 'sokasis', 'soSakas', 'sosakas',\n",
    "'Sesakis', 'SesakiS', 'SikoSis', 'SikoSiS', 'SusekiS', 'SuSekiS',\n",
    "'sokisoS', 'SokisoS', 'Sesikos', 'sesikos', 'sakuSes', 'sakuses',\n",
    "'saSekeS', 'saSekes', 'saSikuS', 'SaSikuS', 'SekosaS', 'SekoSaS',\n",
    "'Sosikos', 'SosikoS', 'Sosakis', 'sosakis', 'saSukes', 'sasukes',\n",
    "'siSukiS', 'siSukis', 'siSokiS', 'SiSokiS', 'SesokaS', 'SeSokaS',\n",
    "'sekasiS', 'SekasiS', 'sekisoS', 'sekisos', 'sokaSas', 'sokasas',\n",
    "'SakeSes', 'sakeSes', 'SakiSus', 'SakiSuS', 'SukesiS', 'SukeSiS'\n",
    "]"
   ]
  },
  {
   "cell_type": "code",
   "execution_count": 10,
   "metadata": {},
   "outputs": [],
   "source": [
    "#mask non-sibilants as x\n",
    "test = [re.sub(r'[^sS]', 'x', w) for w in test]"
   ]
  },
  {
   "cell_type": "code",
   "execution_count": 11,
   "metadata": {},
   "outputs": [
    {
     "name": "stdout",
     "output_type": "stream",
     "text": [
      "Collecting git+https://github.com/christopherdef/ColorTTY\n",
      "  Cloning https://github.com/christopherdef/ColorTTY to c:\\users\\jacob\\appdata\\local\\temp\\pip-req-build-xwfemksa\n",
      "  Resolved https://github.com/christopherdef/ColorTTY to commit fc7c70bc39bfad4c40e3fa41feb86af084ddb720\n",
      "  Preparing metadata (setup.py): started\n",
      "  Preparing metadata (setup.py): finished with status 'done'\n"
     ]
    },
    {
     "name": "stderr",
     "output_type": "stream",
     "text": [
      "  Running command git clone --filter=blob:none --quiet https://github.com/christopherdef/ColorTTY 'C:\\Users\\Jacob\\AppData\\Local\\Temp\\pip-req-build-xwfemksa'\n",
      "\n",
      "[notice] A new release of pip available: 22.2.2 -> 23.1.2\n",
      "[notice] To update, run: C:\\Users\\Jacob\\AppData\\Local\\Microsoft\\WindowsApps\\PythonSoftwareFoundation.Python.3.10_qbz5n2kfra8p0\\python.exe -m pip install --upgrade pip\n"
     ]
    }
   ],
   "source": [
    "!pip install git+https://github.com/christopherdef/ColorTTY\n",
    "from color import Colorizer\n",
    "cz = Colorizer()"
   ]
  },
  {
   "cell_type": "code",
   "execution_count": 12,
   "metadata": {},
   "outputs": [
    {
     "name": "stdout",
     "output_type": "stream",
     "text": [
      "Evaluating g_sh\n",
      "What should this accept? (highlighted yellow)                       sxxxSxs SxxxSxs \u001b[38;5;11msxxxsxs\u001b[0m sxxxsxS \u001b[38;5;11mSxSxxxS\u001b[0m SxsxxxS SxsxxxS Sxsxxxs \u001b[38;5;11mSxSxxxS\u001b[0m sxSxxxS \u001b[38;5;11msxxxsxs\u001b[0m sxxxSxs sxSxxxs sxSxxxS \u001b[38;5;11mSxxxSxS\u001b[0m SxxxSxs \u001b[38;5;11msxsxxxs\u001b[0m sxSxxxs SxxxsxS sxxxsxS \u001b[38;5;11msxsxxxs\u001b[0m Sxsxxxs \u001b[38;5;11mSxxxSxS\u001b[0m SxxxsxS sxSxxxs sxSxxxS \u001b[38;5;11mSxxxSxS\u001b[0m SxxxSxs \u001b[38;5;11mSxxxSxS\u001b[0m SxxxsxS SxxxsxS sxxxsxS \u001b[38;5;11mSxSxxxS\u001b[0m sxSxxxS \u001b[38;5;11msxsxxxs\u001b[0m sxSxxxs sxxxSxs SxxxSxs \u001b[38;5;11msxxxsxs\u001b[0m sxxxsxS \u001b[38;5;11msxxxsxs\u001b[0m sxxxSxs SxsxxxS Sxsxxxs \u001b[38;5;11msxsxxxs\u001b[0m Sxsxxxs \u001b[38;5;11mSxSxxxS\u001b[0m SxsxxxS SxxxSxs sxxxSxs sxxxsxS \u001b[38;5;11msxxxsxs\u001b[0m sxSxxxs \u001b[38;5;11msxsxxxs\u001b[0m Sxsxxxs SxsxxxS SxxxSxs \u001b[38;5;11mSxxxSxS\u001b[0m SxsxxxS \u001b[38;5;11mSxSxxxS\u001b[0m sxxxsxS SxxxsxS Sxsxxxs \u001b[38;5;11msxsxxxs\u001b[0m sxxxSxs \u001b[38;5;11msxxxsxs\u001b[0m sxSxxxS sxSxxxs sxSxxxS \u001b[38;5;11mSxSxxxS\u001b[0m SxxxsxS \u001b[38;5;11mSxxxSxS\u001b[0m Sxsxxxs SxsxxxS Sxsxxxs \u001b[38;5;11msxsxxxs\u001b[0m sxSxxxs \u001b[38;5;11msxsxxxs\u001b[0m sxSxxxS sxSxxxs sxSxxxS \u001b[38;5;11mSxSxxxS\u001b[0m SxsxxxS \u001b[38;5;11mSxSxxxS\u001b[0m sxxxsxS SxxxsxS sxxxsxS \u001b[38;5;11msxxxsxs\u001b[0m sxxxSxs \u001b[38;5;11msxxxsxs\u001b[0m SxxxSxs sxxxSxs SxxxSxs \u001b[38;5;11mSxxxSxS\u001b[0m SxxxsxS \u001b[38;5;11mSxxxSxS\u001b[0m\n",
      "What does this accept?   (highlighted magenta)                      sxxxSxs SxxxSxs \u001b[38;5;13msxxxsxs\u001b[0m sxxxsxS \u001b[38;5;13mSxSxxxS\u001b[0m SxsxxxS SxsxxxS Sxsxxxs \u001b[38;5;13mSxSxxxS\u001b[0m sxSxxxS \u001b[38;5;13msxxxsxs\u001b[0m sxxxSxs sxSxxxs sxSxxxS \u001b[38;5;13mSxxxSxS\u001b[0m SxxxSxs \u001b[38;5;13msxsxxxs\u001b[0m sxSxxxs SxxxsxS sxxxsxS \u001b[38;5;13msxsxxxs\u001b[0m Sxsxxxs \u001b[38;5;13mSxxxSxS\u001b[0m SxxxsxS sxSxxxs sxSxxxS \u001b[38;5;13mSxxxSxS\u001b[0m SxxxSxs \u001b[38;5;13mSxxxSxS\u001b[0m SxxxsxS SxxxsxS sxxxsxS \u001b[38;5;13mSxSxxxS\u001b[0m sxSxxxS \u001b[38;5;13msxsxxxs\u001b[0m sxSxxxs sxxxSxs SxxxSxs \u001b[38;5;13msxxxsxs\u001b[0m sxxxsxS \u001b[38;5;13msxxxsxs\u001b[0m sxxxSxs SxsxxxS Sxsxxxs \u001b[38;5;13msxsxxxs\u001b[0m Sxsxxxs \u001b[38;5;13mSxSxxxS\u001b[0m SxsxxxS SxxxSxs sxxxSxs sxxxsxS \u001b[38;5;13msxxxsxs\u001b[0m sxSxxxs \u001b[38;5;13msxsxxxs\u001b[0m Sxsxxxs SxsxxxS SxxxSxs \u001b[38;5;13mSxxxSxS\u001b[0m SxsxxxS \u001b[38;5;13mSxSxxxS\u001b[0m sxxxsxS SxxxsxS Sxsxxxs \u001b[38;5;13msxsxxxs\u001b[0m sxxxSxs \u001b[38;5;13msxxxsxs\u001b[0m sxSxxxS sxSxxxs sxSxxxS \u001b[38;5;13mSxSxxxS\u001b[0m SxxxsxS \u001b[38;5;13mSxxxSxS\u001b[0m Sxsxxxs SxsxxxS Sxsxxxs \u001b[38;5;13msxsxxxs\u001b[0m sxSxxxs \u001b[38;5;13msxsxxxs\u001b[0m sxSxxxS sxSxxxs sxSxxxS \u001b[38;5;13mSxSxxxS\u001b[0m SxsxxxS \u001b[38;5;13mSxSxxxS\u001b[0m sxxxsxS SxxxsxS sxxxsxS \u001b[38;5;13msxxxsxs\u001b[0m sxxxSxs \u001b[38;5;13msxxxsxs\u001b[0m SxxxSxs sxxxSxs SxxxSxs \u001b[38;5;13mSxxxSxS\u001b[0m SxxxsxS \u001b[38;5;13mSxxxSxS\u001b[0m\n",
      "Does the grammar make the same judgement as the sh acceptor? 100.00% \u001b[38;5;10msxxxSxs\u001b[0m \u001b[38;5;10mSxxxSxs\u001b[0m \u001b[38;5;10msxxxsxs\u001b[0m \u001b[38;5;10msxxxsxS\u001b[0m \u001b[38;5;10mSxSxxxS\u001b[0m \u001b[38;5;10mSxsxxxS\u001b[0m \u001b[38;5;10mSxsxxxS\u001b[0m \u001b[38;5;10mSxsxxxs\u001b[0m \u001b[38;5;10mSxSxxxS\u001b[0m \u001b[38;5;10msxSxxxS\u001b[0m \u001b[38;5;10msxxxsxs\u001b[0m \u001b[38;5;10msxxxSxs\u001b[0m \u001b[38;5;10msxSxxxs\u001b[0m \u001b[38;5;10msxSxxxS\u001b[0m \u001b[38;5;10mSxxxSxS\u001b[0m \u001b[38;5;10mSxxxSxs\u001b[0m \u001b[38;5;10msxsxxxs\u001b[0m \u001b[38;5;10msxSxxxs\u001b[0m \u001b[38;5;10mSxxxsxS\u001b[0m \u001b[38;5;10msxxxsxS\u001b[0m \u001b[38;5;10msxsxxxs\u001b[0m \u001b[38;5;10mSxsxxxs\u001b[0m \u001b[38;5;10mSxxxSxS\u001b[0m \u001b[38;5;10mSxxxsxS\u001b[0m \u001b[38;5;10msxSxxxs\u001b[0m \u001b[38;5;10msxSxxxS\u001b[0m \u001b[38;5;10mSxxxSxS\u001b[0m \u001b[38;5;10mSxxxSxs\u001b[0m \u001b[38;5;10mSxxxSxS\u001b[0m \u001b[38;5;10mSxxxsxS\u001b[0m \u001b[38;5;10mSxxxsxS\u001b[0m \u001b[38;5;10msxxxsxS\u001b[0m \u001b[38;5;10mSxSxxxS\u001b[0m \u001b[38;5;10msxSxxxS\u001b[0m \u001b[38;5;10msxsxxxs\u001b[0m \u001b[38;5;10msxSxxxs\u001b[0m \u001b[38;5;10msxxxSxs\u001b[0m \u001b[38;5;10mSxxxSxs\u001b[0m \u001b[38;5;10msxxxsxs\u001b[0m \u001b[38;5;10msxxxsxS\u001b[0m \u001b[38;5;10msxxxsxs\u001b[0m \u001b[38;5;10msxxxSxs\u001b[0m \u001b[38;5;10mSxsxxxS\u001b[0m \u001b[38;5;10mSxsxxxs\u001b[0m \u001b[38;5;10msxsxxxs\u001b[0m \u001b[38;5;10mSxsxxxs\u001b[0m \u001b[38;5;10mSxSxxxS\u001b[0m \u001b[38;5;10mSxsxxxS\u001b[0m \u001b[38;5;10mSxxxSxs\u001b[0m \u001b[38;5;10msxxxSxs\u001b[0m \u001b[38;5;10msxxxsxS\u001b[0m \u001b[38;5;10msxxxsxs\u001b[0m \u001b[38;5;10msxSxxxs\u001b[0m \u001b[38;5;10msxsxxxs\u001b[0m \u001b[38;5;10mSxsxxxs\u001b[0m \u001b[38;5;10mSxsxxxS\u001b[0m \u001b[38;5;10mSxxxSxs\u001b[0m \u001b[38;5;10mSxxxSxS\u001b[0m \u001b[38;5;10mSxsxxxS\u001b[0m \u001b[38;5;10mSxSxxxS\u001b[0m \u001b[38;5;10msxxxsxS\u001b[0m \u001b[38;5;10mSxxxsxS\u001b[0m \u001b[38;5;10mSxsxxxs\u001b[0m \u001b[38;5;10msxsxxxs\u001b[0m \u001b[38;5;10msxxxSxs\u001b[0m \u001b[38;5;10msxxxsxs\u001b[0m \u001b[38;5;10msxSxxxS\u001b[0m \u001b[38;5;10msxSxxxs\u001b[0m \u001b[38;5;10msxSxxxS\u001b[0m \u001b[38;5;10mSxSxxxS\u001b[0m \u001b[38;5;10mSxxxsxS\u001b[0m \u001b[38;5;10mSxxxSxS\u001b[0m \u001b[38;5;10mSxsxxxs\u001b[0m \u001b[38;5;10mSxsxxxS\u001b[0m \u001b[38;5;10mSxsxxxs\u001b[0m \u001b[38;5;10msxsxxxs\u001b[0m \u001b[38;5;10msxSxxxs\u001b[0m \u001b[38;5;10msxsxxxs\u001b[0m \u001b[38;5;10msxSxxxS\u001b[0m \u001b[38;5;10msxSxxxs\u001b[0m \u001b[38;5;10msxSxxxS\u001b[0m \u001b[38;5;10mSxSxxxS\u001b[0m \u001b[38;5;10mSxsxxxS\u001b[0m \u001b[38;5;10mSxSxxxS\u001b[0m \u001b[38;5;10msxxxsxS\u001b[0m \u001b[38;5;10mSxxxsxS\u001b[0m \u001b[38;5;10msxxxsxS\u001b[0m \u001b[38;5;10msxxxsxs\u001b[0m \u001b[38;5;10msxxxSxs\u001b[0m \u001b[38;5;10msxxxsxs\u001b[0m \u001b[38;5;10mSxxxSxs\u001b[0m \u001b[38;5;10msxxxSxs\u001b[0m \u001b[38;5;10mSxxxSxs\u001b[0m \u001b[38;5;10mSxxxSxS\u001b[0m \u001b[38;5;10mSxxxsxS\u001b[0m \u001b[38;5;10mSxxxSxS\u001b[0m\n",
      "Does the grammar make the same judgement as the fl acceptor? 66.67% \u001b[38;5;9msxxxSxs\u001b[0m \u001b[38;5;10mSxxxSxs\u001b[0m \u001b[38;5;10msxxxsxs\u001b[0m \u001b[38;5;10msxxxsxS\u001b[0m \u001b[38;5;10mSxSxxxS\u001b[0m \u001b[38;5;9mSxsxxxS\u001b[0m \u001b[38;5;9mSxsxxxS\u001b[0m \u001b[38;5;10mSxsxxxs\u001b[0m \u001b[38;5;10mSxSxxxS\u001b[0m \u001b[38;5;10msxSxxxS\u001b[0m \u001b[38;5;10msxxxsxs\u001b[0m \u001b[38;5;9msxxxSxs\u001b[0m \u001b[38;5;9msxSxxxs\u001b[0m \u001b[38;5;10msxSxxxS\u001b[0m \u001b[38;5;10mSxxxSxS\u001b[0m \u001b[38;5;10mSxxxSxs\u001b[0m \u001b[38;5;10msxsxxxs\u001b[0m \u001b[38;5;9msxSxxxs\u001b[0m \u001b[38;5;9mSxxxsxS\u001b[0m \u001b[38;5;10msxxxsxS\u001b[0m \u001b[38;5;10msxsxxxs\u001b[0m \u001b[38;5;10mSxsxxxs\u001b[0m \u001b[38;5;10mSxxxSxS\u001b[0m \u001b[38;5;9mSxxxsxS\u001b[0m \u001b[38;5;9msxSxxxs\u001b[0m \u001b[38;5;10msxSxxxS\u001b[0m \u001b[38;5;10mSxxxSxS\u001b[0m \u001b[38;5;10mSxxxSxs\u001b[0m \u001b[38;5;10mSxxxSxS\u001b[0m \u001b[38;5;9mSxxxsxS\u001b[0m \u001b[38;5;9mSxxxsxS\u001b[0m \u001b[38;5;10msxxxsxS\u001b[0m \u001b[38;5;10mSxSxxxS\u001b[0m \u001b[38;5;10msxSxxxS\u001b[0m \u001b[38;5;10msxsxxxs\u001b[0m \u001b[38;5;9msxSxxxs\u001b[0m \u001b[38;5;9msxxxSxs\u001b[0m \u001b[38;5;10mSxxxSxs\u001b[0m \u001b[38;5;10msxxxsxs\u001b[0m \u001b[38;5;10msxxxsxS\u001b[0m \u001b[38;5;10msxxxsxs\u001b[0m \u001b[38;5;9msxxxSxs\u001b[0m \u001b[38;5;9mSxsxxxS\u001b[0m \u001b[38;5;10mSxsxxxs\u001b[0m \u001b[38;5;10msxsxxxs\u001b[0m \u001b[38;5;10mSxsxxxs\u001b[0m \u001b[38;5;10mSxSxxxS\u001b[0m \u001b[38;5;9mSxsxxxS\u001b[0m \u001b[38;5;10mSxxxSxs\u001b[0m \u001b[38;5;9msxxxSxs\u001b[0m \u001b[38;5;10msxxxsxS\u001b[0m \u001b[38;5;10msxxxsxs\u001b[0m \u001b[38;5;9msxSxxxs\u001b[0m \u001b[38;5;10msxsxxxs\u001b[0m \u001b[38;5;10mSxsxxxs\u001b[0m \u001b[38;5;9mSxsxxxS\u001b[0m \u001b[38;5;10mSxxxSxs\u001b[0m \u001b[38;5;10mSxxxSxS\u001b[0m \u001b[38;5;9mSxsxxxS\u001b[0m \u001b[38;5;10mSxSxxxS\u001b[0m \u001b[38;5;10msxxxsxS\u001b[0m \u001b[38;5;9mSxxxsxS\u001b[0m \u001b[38;5;10mSxsxxxs\u001b[0m \u001b[38;5;10msxsxxxs\u001b[0m \u001b[38;5;9msxxxSxs\u001b[0m \u001b[38;5;10msxxxsxs\u001b[0m \u001b[38;5;10msxSxxxS\u001b[0m \u001b[38;5;9msxSxxxs\u001b[0m \u001b[38;5;10msxSxxxS\u001b[0m \u001b[38;5;10mSxSxxxS\u001b[0m \u001b[38;5;9mSxxxsxS\u001b[0m \u001b[38;5;10mSxxxSxS\u001b[0m \u001b[38;5;10mSxsxxxs\u001b[0m \u001b[38;5;9mSxsxxxS\u001b[0m \u001b[38;5;10mSxsxxxs\u001b[0m \u001b[38;5;10msxsxxxs\u001b[0m \u001b[38;5;9msxSxxxs\u001b[0m \u001b[38;5;10msxsxxxs\u001b[0m \u001b[38;5;10msxSxxxS\u001b[0m \u001b[38;5;9msxSxxxs\u001b[0m \u001b[38;5;10msxSxxxS\u001b[0m \u001b[38;5;10mSxSxxxS\u001b[0m \u001b[38;5;9mSxsxxxS\u001b[0m \u001b[38;5;10mSxSxxxS\u001b[0m \u001b[38;5;10msxxxsxS\u001b[0m \u001b[38;5;9mSxxxsxS\u001b[0m \u001b[38;5;10msxxxsxS\u001b[0m \u001b[38;5;10msxxxsxs\u001b[0m \u001b[38;5;9msxxxSxs\u001b[0m \u001b[38;5;10msxxxsxs\u001b[0m \u001b[38;5;10mSxxxSxs\u001b[0m \u001b[38;5;9msxxxSxs\u001b[0m \u001b[38;5;10mSxxxSxs\u001b[0m \u001b[38;5;10mSxxxSxS\u001b[0m \u001b[38;5;9mSxxxsxS\u001b[0m \u001b[38;5;10mSxxxSxS\u001b[0m\n",
      "\n",
      "Evaluating g_fl\n",
      "What should this accept? (highlighted yellow)                       \u001b[38;5;11msxxxSxs\u001b[0m SxxxSxs \u001b[38;5;11msxxxsxs\u001b[0m sxxxsxS \u001b[38;5;11mSxSxxxS\u001b[0m \u001b[38;5;11mSxsxxxS\u001b[0m \u001b[38;5;11mSxsxxxS\u001b[0m Sxsxxxs \u001b[38;5;11mSxSxxxS\u001b[0m sxSxxxS \u001b[38;5;11msxxxsxs\u001b[0m \u001b[38;5;11msxxxSxs\u001b[0m \u001b[38;5;11msxSxxxs\u001b[0m sxSxxxS \u001b[38;5;11mSxxxSxS\u001b[0m SxxxSxs \u001b[38;5;11msxsxxxs\u001b[0m \u001b[38;5;11msxSxxxs\u001b[0m \u001b[38;5;11mSxxxsxS\u001b[0m sxxxsxS \u001b[38;5;11msxsxxxs\u001b[0m Sxsxxxs \u001b[38;5;11mSxxxSxS\u001b[0m \u001b[38;5;11mSxxxsxS\u001b[0m \u001b[38;5;11msxSxxxs\u001b[0m sxSxxxS \u001b[38;5;11mSxxxSxS\u001b[0m SxxxSxs \u001b[38;5;11mSxxxSxS\u001b[0m \u001b[38;5;11mSxxxsxS\u001b[0m \u001b[38;5;11mSxxxsxS\u001b[0m sxxxsxS \u001b[38;5;11mSxSxxxS\u001b[0m sxSxxxS \u001b[38;5;11msxsxxxs\u001b[0m \u001b[38;5;11msxSxxxs\u001b[0m \u001b[38;5;11msxxxSxs\u001b[0m SxxxSxs \u001b[38;5;11msxxxsxs\u001b[0m sxxxsxS \u001b[38;5;11msxxxsxs\u001b[0m \u001b[38;5;11msxxxSxs\u001b[0m \u001b[38;5;11mSxsxxxS\u001b[0m Sxsxxxs \u001b[38;5;11msxsxxxs\u001b[0m Sxsxxxs \u001b[38;5;11mSxSxxxS\u001b[0m \u001b[38;5;11mSxsxxxS\u001b[0m SxxxSxs \u001b[38;5;11msxxxSxs\u001b[0m sxxxsxS \u001b[38;5;11msxxxsxs\u001b[0m \u001b[38;5;11msxSxxxs\u001b[0m \u001b[38;5;11msxsxxxs\u001b[0m Sxsxxxs \u001b[38;5;11mSxsxxxS\u001b[0m SxxxSxs \u001b[38;5;11mSxxxSxS\u001b[0m \u001b[38;5;11mSxsxxxS\u001b[0m \u001b[38;5;11mSxSxxxS\u001b[0m sxxxsxS \u001b[38;5;11mSxxxsxS\u001b[0m Sxsxxxs \u001b[38;5;11msxsxxxs\u001b[0m \u001b[38;5;11msxxxSxs\u001b[0m \u001b[38;5;11msxxxsxs\u001b[0m sxSxxxS \u001b[38;5;11msxSxxxs\u001b[0m sxSxxxS \u001b[38;5;11mSxSxxxS\u001b[0m \u001b[38;5;11mSxxxsxS\u001b[0m \u001b[38;5;11mSxxxSxS\u001b[0m Sxsxxxs \u001b[38;5;11mSxsxxxS\u001b[0m Sxsxxxs \u001b[38;5;11msxsxxxs\u001b[0m \u001b[38;5;11msxSxxxs\u001b[0m \u001b[38;5;11msxsxxxs\u001b[0m sxSxxxS \u001b[38;5;11msxSxxxs\u001b[0m sxSxxxS \u001b[38;5;11mSxSxxxS\u001b[0m \u001b[38;5;11mSxsxxxS\u001b[0m \u001b[38;5;11mSxSxxxS\u001b[0m sxxxsxS \u001b[38;5;11mSxxxsxS\u001b[0m sxxxsxS \u001b[38;5;11msxxxsxs\u001b[0m \u001b[38;5;11msxxxSxs\u001b[0m \u001b[38;5;11msxxxsxs\u001b[0m SxxxSxs \u001b[38;5;11msxxxSxs\u001b[0m SxxxSxs \u001b[38;5;11mSxxxSxS\u001b[0m \u001b[38;5;11mSxxxsxS\u001b[0m \u001b[38;5;11mSxxxSxS\u001b[0m\n",
      "What does this accept?   (highlighted magenta)                      \u001b[38;5;13msxxxSxs\u001b[0m SxxxSxs \u001b[38;5;13msxxxsxs\u001b[0m sxxxsxS \u001b[38;5;13mSxSxxxS\u001b[0m \u001b[38;5;13mSxsxxxS\u001b[0m \u001b[38;5;13mSxsxxxS\u001b[0m Sxsxxxs \u001b[38;5;13mSxSxxxS\u001b[0m sxSxxxS \u001b[38;5;13msxxxsxs\u001b[0m \u001b[38;5;13msxxxSxs\u001b[0m \u001b[38;5;13msxSxxxs\u001b[0m sxSxxxS \u001b[38;5;13mSxxxSxS\u001b[0m SxxxSxs \u001b[38;5;13msxsxxxs\u001b[0m \u001b[38;5;13msxSxxxs\u001b[0m \u001b[38;5;13mSxxxsxS\u001b[0m sxxxsxS \u001b[38;5;13msxsxxxs\u001b[0m Sxsxxxs \u001b[38;5;13mSxxxSxS\u001b[0m \u001b[38;5;13mSxxxsxS\u001b[0m \u001b[38;5;13msxSxxxs\u001b[0m sxSxxxS \u001b[38;5;13mSxxxSxS\u001b[0m SxxxSxs \u001b[38;5;13mSxxxSxS\u001b[0m \u001b[38;5;13mSxxxsxS\u001b[0m \u001b[38;5;13mSxxxsxS\u001b[0m sxxxsxS \u001b[38;5;13mSxSxxxS\u001b[0m sxSxxxS \u001b[38;5;13msxsxxxs\u001b[0m \u001b[38;5;13msxSxxxs\u001b[0m \u001b[38;5;13msxxxSxs\u001b[0m SxxxSxs \u001b[38;5;13msxxxsxs\u001b[0m sxxxsxS \u001b[38;5;13msxxxsxs\u001b[0m \u001b[38;5;13msxxxSxs\u001b[0m \u001b[38;5;13mSxsxxxS\u001b[0m Sxsxxxs \u001b[38;5;13msxsxxxs\u001b[0m Sxsxxxs \u001b[38;5;13mSxSxxxS\u001b[0m \u001b[38;5;13mSxsxxxS\u001b[0m SxxxSxs \u001b[38;5;13msxxxSxs\u001b[0m sxxxsxS \u001b[38;5;13msxxxsxs\u001b[0m \u001b[38;5;13msxSxxxs\u001b[0m \u001b[38;5;13msxsxxxs\u001b[0m Sxsxxxs \u001b[38;5;13mSxsxxxS\u001b[0m SxxxSxs \u001b[38;5;13mSxxxSxS\u001b[0m \u001b[38;5;13mSxsxxxS\u001b[0m \u001b[38;5;13mSxSxxxS\u001b[0m sxxxsxS \u001b[38;5;13mSxxxsxS\u001b[0m Sxsxxxs \u001b[38;5;13msxsxxxs\u001b[0m \u001b[38;5;13msxxxSxs\u001b[0m \u001b[38;5;13msxxxsxs\u001b[0m sxSxxxS \u001b[38;5;13msxSxxxs\u001b[0m sxSxxxS \u001b[38;5;13mSxSxxxS\u001b[0m \u001b[38;5;13mSxxxsxS\u001b[0m \u001b[38;5;13mSxxxSxS\u001b[0m Sxsxxxs \u001b[38;5;13mSxsxxxS\u001b[0m Sxsxxxs \u001b[38;5;13msxsxxxs\u001b[0m \u001b[38;5;13msxSxxxs\u001b[0m \u001b[38;5;13msxsxxxs\u001b[0m sxSxxxS \u001b[38;5;13msxSxxxs\u001b[0m sxSxxxS \u001b[38;5;13mSxSxxxS\u001b[0m \u001b[38;5;13mSxsxxxS\u001b[0m \u001b[38;5;13mSxSxxxS\u001b[0m sxxxsxS \u001b[38;5;13mSxxxsxS\u001b[0m sxxxsxS \u001b[38;5;13msxxxsxs\u001b[0m \u001b[38;5;13msxxxSxs\u001b[0m \u001b[38;5;13msxxxsxs\u001b[0m SxxxSxs \u001b[38;5;13msxxxSxs\u001b[0m SxxxSxs \u001b[38;5;13mSxxxSxS\u001b[0m \u001b[38;5;13mSxxxsxS\u001b[0m \u001b[38;5;13mSxxxSxS\u001b[0m\n",
      "Does the grammar make the same judgement as the sh acceptor? 66.67% \u001b[38;5;9msxxxSxs\u001b[0m \u001b[38;5;10mSxxxSxs\u001b[0m \u001b[38;5;10msxxxsxs\u001b[0m \u001b[38;5;10msxxxsxS\u001b[0m \u001b[38;5;10mSxSxxxS\u001b[0m \u001b[38;5;9mSxsxxxS\u001b[0m \u001b[38;5;9mSxsxxxS\u001b[0m \u001b[38;5;10mSxsxxxs\u001b[0m \u001b[38;5;10mSxSxxxS\u001b[0m \u001b[38;5;10msxSxxxS\u001b[0m \u001b[38;5;10msxxxsxs\u001b[0m \u001b[38;5;9msxxxSxs\u001b[0m \u001b[38;5;9msxSxxxs\u001b[0m \u001b[38;5;10msxSxxxS\u001b[0m \u001b[38;5;10mSxxxSxS\u001b[0m \u001b[38;5;10mSxxxSxs\u001b[0m \u001b[38;5;10msxsxxxs\u001b[0m \u001b[38;5;9msxSxxxs\u001b[0m \u001b[38;5;9mSxxxsxS\u001b[0m \u001b[38;5;10msxxxsxS\u001b[0m \u001b[38;5;10msxsxxxs\u001b[0m \u001b[38;5;10mSxsxxxs\u001b[0m \u001b[38;5;10mSxxxSxS\u001b[0m \u001b[38;5;9mSxxxsxS\u001b[0m \u001b[38;5;9msxSxxxs\u001b[0m \u001b[38;5;10msxSxxxS\u001b[0m \u001b[38;5;10mSxxxSxS\u001b[0m \u001b[38;5;10mSxxxSxs\u001b[0m \u001b[38;5;10mSxxxSxS\u001b[0m \u001b[38;5;9mSxxxsxS\u001b[0m \u001b[38;5;9mSxxxsxS\u001b[0m \u001b[38;5;10msxxxsxS\u001b[0m \u001b[38;5;10mSxSxxxS\u001b[0m \u001b[38;5;10msxSxxxS\u001b[0m \u001b[38;5;10msxsxxxs\u001b[0m \u001b[38;5;9msxSxxxs\u001b[0m \u001b[38;5;9msxxxSxs\u001b[0m \u001b[38;5;10mSxxxSxs\u001b[0m \u001b[38;5;10msxxxsxs\u001b[0m \u001b[38;5;10msxxxsxS\u001b[0m \u001b[38;5;10msxxxsxs\u001b[0m \u001b[38;5;9msxxxSxs\u001b[0m \u001b[38;5;9mSxsxxxS\u001b[0m \u001b[38;5;10mSxsxxxs\u001b[0m \u001b[38;5;10msxsxxxs\u001b[0m \u001b[38;5;10mSxsxxxs\u001b[0m \u001b[38;5;10mSxSxxxS\u001b[0m \u001b[38;5;9mSxsxxxS\u001b[0m \u001b[38;5;10mSxxxSxs\u001b[0m \u001b[38;5;9msxxxSxs\u001b[0m \u001b[38;5;10msxxxsxS\u001b[0m \u001b[38;5;10msxxxsxs\u001b[0m \u001b[38;5;9msxSxxxs\u001b[0m \u001b[38;5;10msxsxxxs\u001b[0m \u001b[38;5;10mSxsxxxs\u001b[0m \u001b[38;5;9mSxsxxxS\u001b[0m \u001b[38;5;10mSxxxSxs\u001b[0m \u001b[38;5;10mSxxxSxS\u001b[0m \u001b[38;5;9mSxsxxxS\u001b[0m \u001b[38;5;10mSxSxxxS\u001b[0m \u001b[38;5;10msxxxsxS\u001b[0m \u001b[38;5;9mSxxxsxS\u001b[0m \u001b[38;5;10mSxsxxxs\u001b[0m \u001b[38;5;10msxsxxxs\u001b[0m \u001b[38;5;9msxxxSxs\u001b[0m \u001b[38;5;10msxxxsxs\u001b[0m \u001b[38;5;10msxSxxxS\u001b[0m \u001b[38;5;9msxSxxxs\u001b[0m \u001b[38;5;10msxSxxxS\u001b[0m \u001b[38;5;10mSxSxxxS\u001b[0m \u001b[38;5;9mSxxxsxS\u001b[0m \u001b[38;5;10mSxxxSxS\u001b[0m \u001b[38;5;10mSxsxxxs\u001b[0m \u001b[38;5;9mSxsxxxS\u001b[0m \u001b[38;5;10mSxsxxxs\u001b[0m \u001b[38;5;10msxsxxxs\u001b[0m \u001b[38;5;9msxSxxxs\u001b[0m \u001b[38;5;10msxsxxxs\u001b[0m \u001b[38;5;10msxSxxxS\u001b[0m \u001b[38;5;9msxSxxxs\u001b[0m \u001b[38;5;10msxSxxxS\u001b[0m \u001b[38;5;10mSxSxxxS\u001b[0m \u001b[38;5;9mSxsxxxS\u001b[0m \u001b[38;5;10mSxSxxxS\u001b[0m \u001b[38;5;10msxxxsxS\u001b[0m \u001b[38;5;9mSxxxsxS\u001b[0m \u001b[38;5;10msxxxsxS\u001b[0m \u001b[38;5;10msxxxsxs\u001b[0m \u001b[38;5;9msxxxSxs\u001b[0m \u001b[38;5;10msxxxsxs\u001b[0m \u001b[38;5;10mSxxxSxs\u001b[0m \u001b[38;5;9msxxxSxs\u001b[0m \u001b[38;5;10mSxxxSxs\u001b[0m \u001b[38;5;10mSxxxSxS\u001b[0m \u001b[38;5;9mSxxxsxS\u001b[0m \u001b[38;5;10mSxxxSxS\u001b[0m\n",
      "Does the grammar make the same judgement as the fl acceptor? 100.00% \u001b[38;5;10msxxxSxs\u001b[0m \u001b[38;5;10mSxxxSxs\u001b[0m \u001b[38;5;10msxxxsxs\u001b[0m \u001b[38;5;10msxxxsxS\u001b[0m \u001b[38;5;10mSxSxxxS\u001b[0m \u001b[38;5;10mSxsxxxS\u001b[0m \u001b[38;5;10mSxsxxxS\u001b[0m \u001b[38;5;10mSxsxxxs\u001b[0m \u001b[38;5;10mSxSxxxS\u001b[0m \u001b[38;5;10msxSxxxS\u001b[0m \u001b[38;5;10msxxxsxs\u001b[0m \u001b[38;5;10msxxxSxs\u001b[0m \u001b[38;5;10msxSxxxs\u001b[0m \u001b[38;5;10msxSxxxS\u001b[0m \u001b[38;5;10mSxxxSxS\u001b[0m \u001b[38;5;10mSxxxSxs\u001b[0m \u001b[38;5;10msxsxxxs\u001b[0m \u001b[38;5;10msxSxxxs\u001b[0m \u001b[38;5;10mSxxxsxS\u001b[0m \u001b[38;5;10msxxxsxS\u001b[0m \u001b[38;5;10msxsxxxs\u001b[0m \u001b[38;5;10mSxsxxxs\u001b[0m \u001b[38;5;10mSxxxSxS\u001b[0m \u001b[38;5;10mSxxxsxS\u001b[0m \u001b[38;5;10msxSxxxs\u001b[0m \u001b[38;5;10msxSxxxS\u001b[0m \u001b[38;5;10mSxxxSxS\u001b[0m \u001b[38;5;10mSxxxSxs\u001b[0m \u001b[38;5;10mSxxxSxS\u001b[0m \u001b[38;5;10mSxxxsxS\u001b[0m \u001b[38;5;10mSxxxsxS\u001b[0m \u001b[38;5;10msxxxsxS\u001b[0m \u001b[38;5;10mSxSxxxS\u001b[0m \u001b[38;5;10msxSxxxS\u001b[0m \u001b[38;5;10msxsxxxs\u001b[0m \u001b[38;5;10msxSxxxs\u001b[0m \u001b[38;5;10msxxxSxs\u001b[0m \u001b[38;5;10mSxxxSxs\u001b[0m \u001b[38;5;10msxxxsxs\u001b[0m \u001b[38;5;10msxxxsxS\u001b[0m \u001b[38;5;10msxxxsxs\u001b[0m \u001b[38;5;10msxxxSxs\u001b[0m \u001b[38;5;10mSxsxxxS\u001b[0m \u001b[38;5;10mSxsxxxs\u001b[0m \u001b[38;5;10msxsxxxs\u001b[0m \u001b[38;5;10mSxsxxxs\u001b[0m \u001b[38;5;10mSxSxxxS\u001b[0m \u001b[38;5;10mSxsxxxS\u001b[0m \u001b[38;5;10mSxxxSxs\u001b[0m \u001b[38;5;10msxxxSxs\u001b[0m \u001b[38;5;10msxxxsxS\u001b[0m \u001b[38;5;10msxxxsxs\u001b[0m \u001b[38;5;10msxSxxxs\u001b[0m \u001b[38;5;10msxsxxxs\u001b[0m \u001b[38;5;10mSxsxxxs\u001b[0m \u001b[38;5;10mSxsxxxS\u001b[0m \u001b[38;5;10mSxxxSxs\u001b[0m \u001b[38;5;10mSxxxSxS\u001b[0m \u001b[38;5;10mSxsxxxS\u001b[0m \u001b[38;5;10mSxSxxxS\u001b[0m \u001b[38;5;10msxxxsxS\u001b[0m \u001b[38;5;10mSxxxsxS\u001b[0m \u001b[38;5;10mSxsxxxs\u001b[0m \u001b[38;5;10msxsxxxs\u001b[0m \u001b[38;5;10msxxxSxs\u001b[0m \u001b[38;5;10msxxxsxs\u001b[0m \u001b[38;5;10msxSxxxS\u001b[0m \u001b[38;5;10msxSxxxs\u001b[0m \u001b[38;5;10msxSxxxS\u001b[0m \u001b[38;5;10mSxSxxxS\u001b[0m \u001b[38;5;10mSxxxsxS\u001b[0m \u001b[38;5;10mSxxxSxS\u001b[0m \u001b[38;5;10mSxsxxxs\u001b[0m \u001b[38;5;10mSxsxxxS\u001b[0m \u001b[38;5;10mSxsxxxs\u001b[0m \u001b[38;5;10msxsxxxs\u001b[0m \u001b[38;5;10msxSxxxs\u001b[0m \u001b[38;5;10msxsxxxs\u001b[0m \u001b[38;5;10msxSxxxS\u001b[0m \u001b[38;5;10msxSxxxs\u001b[0m \u001b[38;5;10msxSxxxS\u001b[0m \u001b[38;5;10mSxSxxxS\u001b[0m \u001b[38;5;10mSxsxxxS\u001b[0m \u001b[38;5;10mSxSxxxS\u001b[0m \u001b[38;5;10msxxxsxS\u001b[0m \u001b[38;5;10mSxxxsxS\u001b[0m \u001b[38;5;10msxxxsxS\u001b[0m \u001b[38;5;10msxxxsxs\u001b[0m \u001b[38;5;10msxxxSxs\u001b[0m \u001b[38;5;10msxxxsxs\u001b[0m \u001b[38;5;10mSxxxSxs\u001b[0m \u001b[38;5;10msxxxSxs\u001b[0m \u001b[38;5;10mSxxxSxs\u001b[0m \u001b[38;5;10mSxxxSxS\u001b[0m \u001b[38;5;10mSxxxsxS\u001b[0m \u001b[38;5;10mSxxxSxS\u001b[0m\n",
      "\n",
      "Evaluating g_ifl\n",
      "What should this accept? (highlighted yellow)                       \u001b[38;5;11msxxxSxs\u001b[0m SxxxSxs \u001b[38;5;11msxxxsxs\u001b[0m sxxxsxS \u001b[38;5;11mSxSxxxS\u001b[0m \u001b[38;5;11mSxsxxxS\u001b[0m \u001b[38;5;11mSxsxxxS\u001b[0m Sxsxxxs \u001b[38;5;11mSxSxxxS\u001b[0m sxSxxxS \u001b[38;5;11msxxxsxs\u001b[0m \u001b[38;5;11msxxxSxs\u001b[0m \u001b[38;5;11msxSxxxs\u001b[0m sxSxxxS \u001b[38;5;11mSxxxSxS\u001b[0m SxxxSxs \u001b[38;5;11msxsxxxs\u001b[0m \u001b[38;5;11msxSxxxs\u001b[0m \u001b[38;5;11mSxxxsxS\u001b[0m sxxxsxS \u001b[38;5;11msxsxxxs\u001b[0m Sxsxxxs \u001b[38;5;11mSxxxSxS\u001b[0m \u001b[38;5;11mSxxxsxS\u001b[0m \u001b[38;5;11msxSxxxs\u001b[0m sxSxxxS \u001b[38;5;11mSxxxSxS\u001b[0m SxxxSxs \u001b[38;5;11mSxxxSxS\u001b[0m \u001b[38;5;11mSxxxsxS\u001b[0m \u001b[38;5;11mSxxxsxS\u001b[0m sxxxsxS \u001b[38;5;11mSxSxxxS\u001b[0m sxSxxxS \u001b[38;5;11msxsxxxs\u001b[0m \u001b[38;5;11msxSxxxs\u001b[0m \u001b[38;5;11msxxxSxs\u001b[0m SxxxSxs \u001b[38;5;11msxxxsxs\u001b[0m sxxxsxS \u001b[38;5;11msxxxsxs\u001b[0m \u001b[38;5;11msxxxSxs\u001b[0m \u001b[38;5;11mSxsxxxS\u001b[0m Sxsxxxs \u001b[38;5;11msxsxxxs\u001b[0m Sxsxxxs \u001b[38;5;11mSxSxxxS\u001b[0m \u001b[38;5;11mSxsxxxS\u001b[0m SxxxSxs \u001b[38;5;11msxxxSxs\u001b[0m sxxxsxS \u001b[38;5;11msxxxsxs\u001b[0m \u001b[38;5;11msxSxxxs\u001b[0m \u001b[38;5;11msxsxxxs\u001b[0m Sxsxxxs \u001b[38;5;11mSxsxxxS\u001b[0m SxxxSxs \u001b[38;5;11mSxxxSxS\u001b[0m \u001b[38;5;11mSxsxxxS\u001b[0m \u001b[38;5;11mSxSxxxS\u001b[0m sxxxsxS \u001b[38;5;11mSxxxsxS\u001b[0m Sxsxxxs \u001b[38;5;11msxsxxxs\u001b[0m \u001b[38;5;11msxxxSxs\u001b[0m \u001b[38;5;11msxxxsxs\u001b[0m sxSxxxS \u001b[38;5;11msxSxxxs\u001b[0m sxSxxxS \u001b[38;5;11mSxSxxxS\u001b[0m \u001b[38;5;11mSxxxsxS\u001b[0m \u001b[38;5;11mSxxxSxS\u001b[0m Sxsxxxs \u001b[38;5;11mSxsxxxS\u001b[0m Sxsxxxs \u001b[38;5;11msxsxxxs\u001b[0m \u001b[38;5;11msxSxxxs\u001b[0m \u001b[38;5;11msxsxxxs\u001b[0m sxSxxxS \u001b[38;5;11msxSxxxs\u001b[0m sxSxxxS \u001b[38;5;11mSxSxxxS\u001b[0m \u001b[38;5;11mSxsxxxS\u001b[0m \u001b[38;5;11mSxSxxxS\u001b[0m sxxxsxS \u001b[38;5;11mSxxxsxS\u001b[0m sxxxsxS \u001b[38;5;11msxxxsxs\u001b[0m \u001b[38;5;11msxxxSxs\u001b[0m \u001b[38;5;11msxxxsxs\u001b[0m SxxxSxs \u001b[38;5;11msxxxSxs\u001b[0m SxxxSxs \u001b[38;5;11mSxxxSxS\u001b[0m \u001b[38;5;11mSxxxsxS\u001b[0m \u001b[38;5;11mSxxxSxS\u001b[0m\n",
      "What does this accept?   (highlighted magenta)                      \u001b[38;5;13msxxxSxs\u001b[0m SxxxSxs sxxxsxs sxxxsxS SxSxxxS \u001b[38;5;13mSxsxxxS\u001b[0m \u001b[38;5;13mSxsxxxS\u001b[0m Sxsxxxs SxSxxxS sxSxxxS sxxxsxs \u001b[38;5;13msxxxSxs\u001b[0m \u001b[38;5;13msxSxxxs\u001b[0m sxSxxxS SxxxSxS SxxxSxs sxsxxxs \u001b[38;5;13msxSxxxs\u001b[0m \u001b[38;5;13mSxxxsxS\u001b[0m sxxxsxS sxsxxxs Sxsxxxs SxxxSxS \u001b[38;5;13mSxxxsxS\u001b[0m \u001b[38;5;13msxSxxxs\u001b[0m sxSxxxS SxxxSxS SxxxSxs SxxxSxS \u001b[38;5;13mSxxxsxS\u001b[0m \u001b[38;5;13mSxxxsxS\u001b[0m sxxxsxS SxSxxxS sxSxxxS sxsxxxs \u001b[38;5;13msxSxxxs\u001b[0m \u001b[38;5;13msxxxSxs\u001b[0m SxxxSxs sxxxsxs sxxxsxS sxxxsxs \u001b[38;5;13msxxxSxs\u001b[0m \u001b[38;5;13mSxsxxxS\u001b[0m Sxsxxxs sxsxxxs Sxsxxxs SxSxxxS \u001b[38;5;13mSxsxxxS\u001b[0m SxxxSxs \u001b[38;5;13msxxxSxs\u001b[0m sxxxsxS sxxxsxs \u001b[38;5;13msxSxxxs\u001b[0m sxsxxxs Sxsxxxs \u001b[38;5;13mSxsxxxS\u001b[0m SxxxSxs SxxxSxS \u001b[38;5;13mSxsxxxS\u001b[0m SxSxxxS sxxxsxS \u001b[38;5;13mSxxxsxS\u001b[0m Sxsxxxs sxsxxxs \u001b[38;5;13msxxxSxs\u001b[0m sxxxsxs sxSxxxS \u001b[38;5;13msxSxxxs\u001b[0m sxSxxxS SxSxxxS \u001b[38;5;13mSxxxsxS\u001b[0m SxxxSxS Sxsxxxs \u001b[38;5;13mSxsxxxS\u001b[0m Sxsxxxs sxsxxxs \u001b[38;5;13msxSxxxs\u001b[0m sxsxxxs sxSxxxS \u001b[38;5;13msxSxxxs\u001b[0m sxSxxxS SxSxxxS \u001b[38;5;13mSxsxxxS\u001b[0m SxSxxxS sxxxsxS \u001b[38;5;13mSxxxsxS\u001b[0m sxxxsxS sxxxsxs \u001b[38;5;13msxxxSxs\u001b[0m sxxxsxs SxxxSxs \u001b[38;5;13msxxxSxs\u001b[0m SxxxSxs SxxxSxS \u001b[38;5;13mSxxxsxS\u001b[0m SxxxSxS\n",
      "Does the grammar make the same judgement as the sh acceptor? 33.33% \u001b[38;5;9msxxxSxs\u001b[0m \u001b[38;5;10mSxxxSxs\u001b[0m \u001b[38;5;9msxxxsxs\u001b[0m \u001b[38;5;10msxxxsxS\u001b[0m \u001b[38;5;9mSxSxxxS\u001b[0m \u001b[38;5;9mSxsxxxS\u001b[0m \u001b[38;5;9mSxsxxxS\u001b[0m \u001b[38;5;10mSxsxxxs\u001b[0m \u001b[38;5;9mSxSxxxS\u001b[0m \u001b[38;5;10msxSxxxS\u001b[0m \u001b[38;5;9msxxxsxs\u001b[0m \u001b[38;5;9msxxxSxs\u001b[0m \u001b[38;5;9msxSxxxs\u001b[0m \u001b[38;5;10msxSxxxS\u001b[0m \u001b[38;5;9mSxxxSxS\u001b[0m \u001b[38;5;10mSxxxSxs\u001b[0m \u001b[38;5;9msxsxxxs\u001b[0m \u001b[38;5;9msxSxxxs\u001b[0m \u001b[38;5;9mSxxxsxS\u001b[0m \u001b[38;5;10msxxxsxS\u001b[0m \u001b[38;5;9msxsxxxs\u001b[0m \u001b[38;5;10mSxsxxxs\u001b[0m \u001b[38;5;9mSxxxSxS\u001b[0m \u001b[38;5;9mSxxxsxS\u001b[0m \u001b[38;5;9msxSxxxs\u001b[0m \u001b[38;5;10msxSxxxS\u001b[0m \u001b[38;5;9mSxxxSxS\u001b[0m \u001b[38;5;10mSxxxSxs\u001b[0m \u001b[38;5;9mSxxxSxS\u001b[0m \u001b[38;5;9mSxxxsxS\u001b[0m \u001b[38;5;9mSxxxsxS\u001b[0m \u001b[38;5;10msxxxsxS\u001b[0m \u001b[38;5;9mSxSxxxS\u001b[0m \u001b[38;5;10msxSxxxS\u001b[0m \u001b[38;5;9msxsxxxs\u001b[0m \u001b[38;5;9msxSxxxs\u001b[0m \u001b[38;5;9msxxxSxs\u001b[0m \u001b[38;5;10mSxxxSxs\u001b[0m \u001b[38;5;9msxxxsxs\u001b[0m \u001b[38;5;10msxxxsxS\u001b[0m \u001b[38;5;9msxxxsxs\u001b[0m \u001b[38;5;9msxxxSxs\u001b[0m \u001b[38;5;9mSxsxxxS\u001b[0m \u001b[38;5;10mSxsxxxs\u001b[0m \u001b[38;5;9msxsxxxs\u001b[0m \u001b[38;5;10mSxsxxxs\u001b[0m \u001b[38;5;9mSxSxxxS\u001b[0m \u001b[38;5;9mSxsxxxS\u001b[0m \u001b[38;5;10mSxxxSxs\u001b[0m \u001b[38;5;9msxxxSxs\u001b[0m \u001b[38;5;10msxxxsxS\u001b[0m \u001b[38;5;9msxxxsxs\u001b[0m \u001b[38;5;9msxSxxxs\u001b[0m \u001b[38;5;9msxsxxxs\u001b[0m \u001b[38;5;10mSxsxxxs\u001b[0m \u001b[38;5;9mSxsxxxS\u001b[0m \u001b[38;5;10mSxxxSxs\u001b[0m \u001b[38;5;9mSxxxSxS\u001b[0m \u001b[38;5;9mSxsxxxS\u001b[0m \u001b[38;5;9mSxSxxxS\u001b[0m \u001b[38;5;10msxxxsxS\u001b[0m \u001b[38;5;9mSxxxsxS\u001b[0m \u001b[38;5;10mSxsxxxs\u001b[0m \u001b[38;5;9msxsxxxs\u001b[0m \u001b[38;5;9msxxxSxs\u001b[0m \u001b[38;5;9msxxxsxs\u001b[0m \u001b[38;5;10msxSxxxS\u001b[0m \u001b[38;5;9msxSxxxs\u001b[0m \u001b[38;5;10msxSxxxS\u001b[0m \u001b[38;5;9mSxSxxxS\u001b[0m \u001b[38;5;9mSxxxsxS\u001b[0m \u001b[38;5;9mSxxxSxS\u001b[0m \u001b[38;5;10mSxsxxxs\u001b[0m \u001b[38;5;9mSxsxxxS\u001b[0m \u001b[38;5;10mSxsxxxs\u001b[0m \u001b[38;5;9msxsxxxs\u001b[0m \u001b[38;5;9msxSxxxs\u001b[0m \u001b[38;5;9msxsxxxs\u001b[0m \u001b[38;5;10msxSxxxS\u001b[0m \u001b[38;5;9msxSxxxs\u001b[0m \u001b[38;5;10msxSxxxS\u001b[0m \u001b[38;5;9mSxSxxxS\u001b[0m \u001b[38;5;9mSxsxxxS\u001b[0m \u001b[38;5;9mSxSxxxS\u001b[0m \u001b[38;5;10msxxxsxS\u001b[0m \u001b[38;5;9mSxxxsxS\u001b[0m \u001b[38;5;10msxxxsxS\u001b[0m \u001b[38;5;9msxxxsxs\u001b[0m \u001b[38;5;9msxxxSxs\u001b[0m \u001b[38;5;9msxxxsxs\u001b[0m \u001b[38;5;10mSxxxSxs\u001b[0m \u001b[38;5;9msxxxSxs\u001b[0m \u001b[38;5;10mSxxxSxs\u001b[0m \u001b[38;5;9mSxxxSxS\u001b[0m \u001b[38;5;9mSxxxsxS\u001b[0m \u001b[38;5;9mSxxxSxS\u001b[0m\n",
      "Does the grammar make the same judgement as the fl acceptor? 66.67% \u001b[38;5;10msxxxSxs\u001b[0m \u001b[38;5;10mSxxxSxs\u001b[0m \u001b[38;5;9msxxxsxs\u001b[0m \u001b[38;5;10msxxxsxS\u001b[0m \u001b[38;5;9mSxSxxxS\u001b[0m \u001b[38;5;10mSxsxxxS\u001b[0m \u001b[38;5;10mSxsxxxS\u001b[0m \u001b[38;5;10mSxsxxxs\u001b[0m \u001b[38;5;9mSxSxxxS\u001b[0m \u001b[38;5;10msxSxxxS\u001b[0m \u001b[38;5;9msxxxsxs\u001b[0m \u001b[38;5;10msxxxSxs\u001b[0m \u001b[38;5;10msxSxxxs\u001b[0m \u001b[38;5;10msxSxxxS\u001b[0m \u001b[38;5;9mSxxxSxS\u001b[0m \u001b[38;5;10mSxxxSxs\u001b[0m \u001b[38;5;9msxsxxxs\u001b[0m \u001b[38;5;10msxSxxxs\u001b[0m \u001b[38;5;10mSxxxsxS\u001b[0m \u001b[38;5;10msxxxsxS\u001b[0m \u001b[38;5;9msxsxxxs\u001b[0m \u001b[38;5;10mSxsxxxs\u001b[0m \u001b[38;5;9mSxxxSxS\u001b[0m \u001b[38;5;10mSxxxsxS\u001b[0m \u001b[38;5;10msxSxxxs\u001b[0m \u001b[38;5;10msxSxxxS\u001b[0m \u001b[38;5;9mSxxxSxS\u001b[0m \u001b[38;5;10mSxxxSxs\u001b[0m \u001b[38;5;9mSxxxSxS\u001b[0m \u001b[38;5;10mSxxxsxS\u001b[0m \u001b[38;5;10mSxxxsxS\u001b[0m \u001b[38;5;10msxxxsxS\u001b[0m \u001b[38;5;9mSxSxxxS\u001b[0m \u001b[38;5;10msxSxxxS\u001b[0m \u001b[38;5;9msxsxxxs\u001b[0m \u001b[38;5;10msxSxxxs\u001b[0m \u001b[38;5;10msxxxSxs\u001b[0m \u001b[38;5;10mSxxxSxs\u001b[0m \u001b[38;5;9msxxxsxs\u001b[0m \u001b[38;5;10msxxxsxS\u001b[0m \u001b[38;5;9msxxxsxs\u001b[0m \u001b[38;5;10msxxxSxs\u001b[0m \u001b[38;5;10mSxsxxxS\u001b[0m \u001b[38;5;10mSxsxxxs\u001b[0m \u001b[38;5;9msxsxxxs\u001b[0m \u001b[38;5;10mSxsxxxs\u001b[0m \u001b[38;5;9mSxSxxxS\u001b[0m \u001b[38;5;10mSxsxxxS\u001b[0m \u001b[38;5;10mSxxxSxs\u001b[0m \u001b[38;5;10msxxxSxs\u001b[0m \u001b[38;5;10msxxxsxS\u001b[0m \u001b[38;5;9msxxxsxs\u001b[0m \u001b[38;5;10msxSxxxs\u001b[0m \u001b[38;5;9msxsxxxs\u001b[0m \u001b[38;5;10mSxsxxxs\u001b[0m \u001b[38;5;10mSxsxxxS\u001b[0m \u001b[38;5;10mSxxxSxs\u001b[0m \u001b[38;5;9mSxxxSxS\u001b[0m \u001b[38;5;10mSxsxxxS\u001b[0m \u001b[38;5;9mSxSxxxS\u001b[0m \u001b[38;5;10msxxxsxS\u001b[0m \u001b[38;5;10mSxxxsxS\u001b[0m \u001b[38;5;10mSxsxxxs\u001b[0m \u001b[38;5;9msxsxxxs\u001b[0m \u001b[38;5;10msxxxSxs\u001b[0m \u001b[38;5;9msxxxsxs\u001b[0m \u001b[38;5;10msxSxxxS\u001b[0m \u001b[38;5;10msxSxxxs\u001b[0m \u001b[38;5;10msxSxxxS\u001b[0m \u001b[38;5;9mSxSxxxS\u001b[0m \u001b[38;5;10mSxxxsxS\u001b[0m \u001b[38;5;9mSxxxSxS\u001b[0m \u001b[38;5;10mSxsxxxs\u001b[0m \u001b[38;5;10mSxsxxxS\u001b[0m \u001b[38;5;10mSxsxxxs\u001b[0m \u001b[38;5;9msxsxxxs\u001b[0m \u001b[38;5;10msxSxxxs\u001b[0m \u001b[38;5;9msxsxxxs\u001b[0m \u001b[38;5;10msxSxxxS\u001b[0m \u001b[38;5;10msxSxxxs\u001b[0m \u001b[38;5;10msxSxxxS\u001b[0m \u001b[38;5;9mSxSxxxS\u001b[0m \u001b[38;5;10mSxsxxxS\u001b[0m \u001b[38;5;9mSxSxxxS\u001b[0m \u001b[38;5;10msxxxsxS\u001b[0m \u001b[38;5;10mSxxxsxS\u001b[0m \u001b[38;5;10msxxxsxS\u001b[0m \u001b[38;5;9msxxxsxs\u001b[0m \u001b[38;5;10msxxxSxs\u001b[0m \u001b[38;5;9msxxxsxs\u001b[0m \u001b[38;5;10mSxxxSxs\u001b[0m \u001b[38;5;10msxxxSxs\u001b[0m \u001b[38;5;10mSxxxSxs\u001b[0m \u001b[38;5;9mSxxxSxS\u001b[0m \u001b[38;5;10mSxxxsxS\u001b[0m \u001b[38;5;9mSxxxSxS\u001b[0m\n"
     ]
    }
   ],
   "source": [
    "#test\n",
    "print('Evaluating g_sh')\n",
    "print(f'What should this accept? (highlighted yellow)                       {\" \".join([cz(\"yellow\", w) if sh_acceptor(w) else w for w in test])}')\n",
    "print(f'What does this accept?   (highlighted magenta)                      {\" \".join([cz(\"magenta\", w) if g_sh.scan(w) else w for w in test])}')\n",
    "g_sh_match_sh = [w for w in test if sh_acceptor(w) == g_sh.scan(w)]\n",
    "g_sh_match_fl = [w for w in test if fl_acceptor(w) == g_sh.scan(w)]\n",
    "print(f\"Does the grammar make the same judgement as the sh acceptor? {format(len(g_sh_match_sh)/len(test)*100, '.2f')}% {' '.join(cz('green' if w in g_sh_match_sh else 'red', w) for w in test)}\")\n",
    "print(f\"Does the grammar make the same judgement as the fl acceptor? {format(len(g_sh_match_fl)/len(test)*100, '.2f')}% {' '.join(cz('green' if w in g_sh_match_fl else 'red', w) for w in test)}\")\n",
    "print()\n",
    "\n",
    "print('Evaluating g_fl')\n",
    "print(f'What should this accept? (highlighted yellow)                       {\" \".join([cz(\"yellow\", w) if fl_acceptor(w) else w for w in test])}')\n",
    "print(f'What does this accept?   (highlighted magenta)                      {\" \".join([cz(\"magenta\", w) if g_fl.scan(w) else w for w in test])}')\n",
    "g_fl_match_sh = [w for w in test if sh_acceptor(w) == g_fl.scan(w)]\n",
    "g_fl_match_fl = [w for w in test if fl_acceptor(w) == g_fl.scan(w)]\n",
    "print(f\"Does the grammar make the same judgement as the sh acceptor? {format(len(g_fl_match_sh)/len(test)*100, '.2f')}% {' '.join(cz('green' if w in g_fl_match_sh else 'red', w) for w in test)}\")\n",
    "print(f\"Does the grammar make the same judgement as the fl acceptor? {format(len(g_fl_match_fl)/len(test)*100, '.2f')}% {' '.join(cz('green' if w in g_fl_match_fl else 'red', w) for w in test)}\")\n",
    "print()\n",
    "\n",
    "print('Evaluating g_ifl')\n",
    "print(f'What should this accept? (highlighted yellow)                       {\" \".join([cz(\"yellow\", w) if fl_acceptor(w) else w for w in test])}')\n",
    "print(f'What does this accept?   (highlighted magenta)                      {\" \".join([cz(\"magenta\", w) if g_ifl.scan(w) else w for w in test])}')\n",
    "g_ifl_match_sh = [w for w in test if sh_acceptor(w) == g_ifl.scan(w)]\n",
    "g_ifl_match_fl = [w for w in test if fl_acceptor(w) == g_ifl.scan(w)]\n",
    "print(f\"Does the grammar make the same judgement as the sh acceptor? {format(len(g_ifl_match_sh)/len(test)*100, '.2f')}% {' '.join(cz('green' if w in g_ifl_match_sh else 'red', w) for w in test)}\")\n",
    "print(f\"Does the grammar make the same judgement as the fl acceptor? {format(len(g_ifl_match_fl)/len(test)*100, '.2f')}% {' '.join(cz('green' if w in g_ifl_match_fl else 'red', w) for w in test)}\")"
   ]
  }
 ],
 "metadata": {
  "kernelspec": {
   "display_name": "Python 3",
   "language": "python",
   "name": "python3"
  },
  "language_info": {
   "codemirror_mode": {
    "name": "ipython",
    "version": 3
   },
   "file_extension": ".py",
   "mimetype": "text/x-python",
   "name": "python",
   "nbconvert_exporter": "python",
   "pygments_lexer": "ipython3",
   "version": "3.10.11"
  },
  "orig_nbformat": 4
 },
 "nbformat": 4,
 "nbformat_minor": 2
}
